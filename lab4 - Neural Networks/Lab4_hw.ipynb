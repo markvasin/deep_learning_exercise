{
  "nbformat": 4,
  "nbformat_minor": 0,
  "metadata": {
    "colab": {
      "name": "Lab4.ipynb",
      "provenance": [],
      "collapsed_sections": [
        "5f-od2cwo5mO",
        "HhBrv4qLwIEw",
        "ZhrjLSv4v_uM",
        "rHC5_2FPw1xk",
        "BmHdEeOUxcfO",
        "2EkIKjEszV6l"
      ],
      "authorship_tag": "ABX9TyN1jfB6/sXXwrv+vQi1biXq",
      "include_colab_link": true
    },
    "kernelspec": {
      "name": "python3",
      "display_name": "Python 3"
    },
    "accelerator": "GPU",
    "widgets": {
      "application/vnd.jupyter.widget-state+json": {
        "476f5e5aac9f4e05932048c9db685743": {
          "model_module": "@jupyter-widgets/controls",
          "model_name": "HBoxModel",
          "state": {
            "_view_name": "HBoxView",
            "_dom_classes": [],
            "_model_name": "HBoxModel",
            "_view_module": "@jupyter-widgets/controls",
            "_model_module_version": "1.5.0",
            "_view_count": null,
            "_view_module_version": "1.5.0",
            "box_style": "",
            "layout": "IPY_MODEL_9ac1f33c59b34710ae5fbb41bf98c93c",
            "_model_module": "@jupyter-widgets/controls",
            "children": [
              "IPY_MODEL_673a9f8e98164bfdb496e920adf0c032",
              "IPY_MODEL_ec0caa4cc763487bb2fa5a59372e5ce0"
            ]
          }
        },
        "9ac1f33c59b34710ae5fbb41bf98c93c": {
          "model_module": "@jupyter-widgets/base",
          "model_name": "LayoutModel",
          "state": {
            "_view_name": "LayoutView",
            "grid_template_rows": null,
            "right": null,
            "justify_content": null,
            "_view_module": "@jupyter-widgets/base",
            "overflow": null,
            "_model_module_version": "1.2.0",
            "_view_count": null,
            "flex_flow": null,
            "width": null,
            "min_width": null,
            "border": null,
            "align_items": null,
            "bottom": null,
            "_model_module": "@jupyter-widgets/base",
            "top": null,
            "grid_column": null,
            "overflow_y": null,
            "overflow_x": null,
            "grid_auto_flow": null,
            "grid_area": null,
            "grid_template_columns": null,
            "flex": null,
            "_model_name": "LayoutModel",
            "justify_items": null,
            "grid_row": null,
            "max_height": null,
            "align_content": null,
            "visibility": null,
            "align_self": null,
            "height": null,
            "min_height": null,
            "padding": null,
            "grid_auto_rows": null,
            "grid_gap": null,
            "max_width": null,
            "order": null,
            "_view_module_version": "1.2.0",
            "grid_template_areas": null,
            "object_position": null,
            "object_fit": null,
            "grid_auto_columns": null,
            "margin": null,
            "display": null,
            "left": null
          }
        },
        "673a9f8e98164bfdb496e920adf0c032": {
          "model_module": "@jupyter-widgets/controls",
          "model_name": "IntProgressModel",
          "state": {
            "_view_name": "ProgressView",
            "style": "IPY_MODEL_06bd9c7d4c2e45d9b0b72a53aafb8599",
            "_dom_classes": [],
            "description": "",
            "_model_name": "IntProgressModel",
            "bar_style": "success",
            "max": 1,
            "_view_module": "@jupyter-widgets/controls",
            "_model_module_version": "1.5.0",
            "value": 1,
            "_view_count": null,
            "_view_module_version": "1.5.0",
            "orientation": "horizontal",
            "min": 0,
            "description_tooltip": null,
            "_model_module": "@jupyter-widgets/controls",
            "layout": "IPY_MODEL_f547ac342ba947208ec8769fd9dbbfd3"
          }
        },
        "ec0caa4cc763487bb2fa5a59372e5ce0": {
          "model_module": "@jupyter-widgets/controls",
          "model_name": "HTMLModel",
          "state": {
            "_view_name": "HTMLView",
            "style": "IPY_MODEL_2011220993ba4e60b9ed1f5f5a624a64",
            "_dom_classes": [],
            "description": "",
            "_model_name": "HTMLModel",
            "placeholder": "​",
            "_view_module": "@jupyter-widgets/controls",
            "_model_module_version": "1.5.0",
            "value": "9920512it [00:00, 20607647.61it/s]",
            "_view_count": null,
            "_view_module_version": "1.5.0",
            "description_tooltip": null,
            "_model_module": "@jupyter-widgets/controls",
            "layout": "IPY_MODEL_979c194e77214d06887fedfcac4586cb"
          }
        },
        "06bd9c7d4c2e45d9b0b72a53aafb8599": {
          "model_module": "@jupyter-widgets/controls",
          "model_name": "ProgressStyleModel",
          "state": {
            "_view_name": "StyleView",
            "_model_name": "ProgressStyleModel",
            "description_width": "",
            "_view_module": "@jupyter-widgets/base",
            "_model_module_version": "1.5.0",
            "_view_count": null,
            "_view_module_version": "1.2.0",
            "bar_color": null,
            "_model_module": "@jupyter-widgets/controls"
          }
        },
        "f547ac342ba947208ec8769fd9dbbfd3": {
          "model_module": "@jupyter-widgets/base",
          "model_name": "LayoutModel",
          "state": {
            "_view_name": "LayoutView",
            "grid_template_rows": null,
            "right": null,
            "justify_content": null,
            "_view_module": "@jupyter-widgets/base",
            "overflow": null,
            "_model_module_version": "1.2.0",
            "_view_count": null,
            "flex_flow": null,
            "width": null,
            "min_width": null,
            "border": null,
            "align_items": null,
            "bottom": null,
            "_model_module": "@jupyter-widgets/base",
            "top": null,
            "grid_column": null,
            "overflow_y": null,
            "overflow_x": null,
            "grid_auto_flow": null,
            "grid_area": null,
            "grid_template_columns": null,
            "flex": null,
            "_model_name": "LayoutModel",
            "justify_items": null,
            "grid_row": null,
            "max_height": null,
            "align_content": null,
            "visibility": null,
            "align_self": null,
            "height": null,
            "min_height": null,
            "padding": null,
            "grid_auto_rows": null,
            "grid_gap": null,
            "max_width": null,
            "order": null,
            "_view_module_version": "1.2.0",
            "grid_template_areas": null,
            "object_position": null,
            "object_fit": null,
            "grid_auto_columns": null,
            "margin": null,
            "display": null,
            "left": null
          }
        },
        "2011220993ba4e60b9ed1f5f5a624a64": {
          "model_module": "@jupyter-widgets/controls",
          "model_name": "DescriptionStyleModel",
          "state": {
            "_view_name": "StyleView",
            "_model_name": "DescriptionStyleModel",
            "description_width": "",
            "_view_module": "@jupyter-widgets/base",
            "_model_module_version": "1.5.0",
            "_view_count": null,
            "_view_module_version": "1.2.0",
            "_model_module": "@jupyter-widgets/controls"
          }
        },
        "979c194e77214d06887fedfcac4586cb": {
          "model_module": "@jupyter-widgets/base",
          "model_name": "LayoutModel",
          "state": {
            "_view_name": "LayoutView",
            "grid_template_rows": null,
            "right": null,
            "justify_content": null,
            "_view_module": "@jupyter-widgets/base",
            "overflow": null,
            "_model_module_version": "1.2.0",
            "_view_count": null,
            "flex_flow": null,
            "width": null,
            "min_width": null,
            "border": null,
            "align_items": null,
            "bottom": null,
            "_model_module": "@jupyter-widgets/base",
            "top": null,
            "grid_column": null,
            "overflow_y": null,
            "overflow_x": null,
            "grid_auto_flow": null,
            "grid_area": null,
            "grid_template_columns": null,
            "flex": null,
            "_model_name": "LayoutModel",
            "justify_items": null,
            "grid_row": null,
            "max_height": null,
            "align_content": null,
            "visibility": null,
            "align_self": null,
            "height": null,
            "min_height": null,
            "padding": null,
            "grid_auto_rows": null,
            "grid_gap": null,
            "max_width": null,
            "order": null,
            "_view_module_version": "1.2.0",
            "grid_template_areas": null,
            "object_position": null,
            "object_fit": null,
            "grid_auto_columns": null,
            "margin": null,
            "display": null,
            "left": null
          }
        },
        "49519abe3a48448cb2bf2bbeaa891fad": {
          "model_module": "@jupyter-widgets/controls",
          "model_name": "HBoxModel",
          "state": {
            "_view_name": "HBoxView",
            "_dom_classes": [],
            "_model_name": "HBoxModel",
            "_view_module": "@jupyter-widgets/controls",
            "_model_module_version": "1.5.0",
            "_view_count": null,
            "_view_module_version": "1.5.0",
            "box_style": "",
            "layout": "IPY_MODEL_974a363cc76c4a2abcc38c6e69ce28b9",
            "_model_module": "@jupyter-widgets/controls",
            "children": [
              "IPY_MODEL_14481982d5ff4699b3f742a7d1f2f370",
              "IPY_MODEL_f18046e146ef4ae4a5b566bef6575047"
            ]
          }
        },
        "974a363cc76c4a2abcc38c6e69ce28b9": {
          "model_module": "@jupyter-widgets/base",
          "model_name": "LayoutModel",
          "state": {
            "_view_name": "LayoutView",
            "grid_template_rows": null,
            "right": null,
            "justify_content": null,
            "_view_module": "@jupyter-widgets/base",
            "overflow": null,
            "_model_module_version": "1.2.0",
            "_view_count": null,
            "flex_flow": null,
            "width": null,
            "min_width": null,
            "border": null,
            "align_items": null,
            "bottom": null,
            "_model_module": "@jupyter-widgets/base",
            "top": null,
            "grid_column": null,
            "overflow_y": null,
            "overflow_x": null,
            "grid_auto_flow": null,
            "grid_area": null,
            "grid_template_columns": null,
            "flex": null,
            "_model_name": "LayoutModel",
            "justify_items": null,
            "grid_row": null,
            "max_height": null,
            "align_content": null,
            "visibility": null,
            "align_self": null,
            "height": null,
            "min_height": null,
            "padding": null,
            "grid_auto_rows": null,
            "grid_gap": null,
            "max_width": null,
            "order": null,
            "_view_module_version": "1.2.0",
            "grid_template_areas": null,
            "object_position": null,
            "object_fit": null,
            "grid_auto_columns": null,
            "margin": null,
            "display": null,
            "left": null
          }
        },
        "14481982d5ff4699b3f742a7d1f2f370": {
          "model_module": "@jupyter-widgets/controls",
          "model_name": "IntProgressModel",
          "state": {
            "_view_name": "ProgressView",
            "style": "IPY_MODEL_9bf05fc7eef64adeb73d65bfd28d27f9",
            "_dom_classes": [],
            "description": "",
            "_model_name": "IntProgressModel",
            "bar_style": "success",
            "max": 1,
            "_view_module": "@jupyter-widgets/controls",
            "_model_module_version": "1.5.0",
            "value": 1,
            "_view_count": null,
            "_view_module_version": "1.5.0",
            "orientation": "horizontal",
            "min": 0,
            "description_tooltip": null,
            "_model_module": "@jupyter-widgets/controls",
            "layout": "IPY_MODEL_48a276294a914931902c468bf7eae38e"
          }
        },
        "f18046e146ef4ae4a5b566bef6575047": {
          "model_module": "@jupyter-widgets/controls",
          "model_name": "HTMLModel",
          "state": {
            "_view_name": "HTMLView",
            "style": "IPY_MODEL_6a661c2ecf024aee9d339fad46f0444c",
            "_dom_classes": [],
            "description": "",
            "_model_name": "HTMLModel",
            "placeholder": "​",
            "_view_module": "@jupyter-widgets/controls",
            "_model_module_version": "1.5.0",
            "value": "32768it [00:00, 250108.19it/s]",
            "_view_count": null,
            "_view_module_version": "1.5.0",
            "description_tooltip": null,
            "_model_module": "@jupyter-widgets/controls",
            "layout": "IPY_MODEL_1668c6a9d5394ecd96263db9ec3c1151"
          }
        },
        "9bf05fc7eef64adeb73d65bfd28d27f9": {
          "model_module": "@jupyter-widgets/controls",
          "model_name": "ProgressStyleModel",
          "state": {
            "_view_name": "StyleView",
            "_model_name": "ProgressStyleModel",
            "description_width": "",
            "_view_module": "@jupyter-widgets/base",
            "_model_module_version": "1.5.0",
            "_view_count": null,
            "_view_module_version": "1.2.0",
            "bar_color": null,
            "_model_module": "@jupyter-widgets/controls"
          }
        },
        "48a276294a914931902c468bf7eae38e": {
          "model_module": "@jupyter-widgets/base",
          "model_name": "LayoutModel",
          "state": {
            "_view_name": "LayoutView",
            "grid_template_rows": null,
            "right": null,
            "justify_content": null,
            "_view_module": "@jupyter-widgets/base",
            "overflow": null,
            "_model_module_version": "1.2.0",
            "_view_count": null,
            "flex_flow": null,
            "width": null,
            "min_width": null,
            "border": null,
            "align_items": null,
            "bottom": null,
            "_model_module": "@jupyter-widgets/base",
            "top": null,
            "grid_column": null,
            "overflow_y": null,
            "overflow_x": null,
            "grid_auto_flow": null,
            "grid_area": null,
            "grid_template_columns": null,
            "flex": null,
            "_model_name": "LayoutModel",
            "justify_items": null,
            "grid_row": null,
            "max_height": null,
            "align_content": null,
            "visibility": null,
            "align_self": null,
            "height": null,
            "min_height": null,
            "padding": null,
            "grid_auto_rows": null,
            "grid_gap": null,
            "max_width": null,
            "order": null,
            "_view_module_version": "1.2.0",
            "grid_template_areas": null,
            "object_position": null,
            "object_fit": null,
            "grid_auto_columns": null,
            "margin": null,
            "display": null,
            "left": null
          }
        },
        "6a661c2ecf024aee9d339fad46f0444c": {
          "model_module": "@jupyter-widgets/controls",
          "model_name": "DescriptionStyleModel",
          "state": {
            "_view_name": "StyleView",
            "_model_name": "DescriptionStyleModel",
            "description_width": "",
            "_view_module": "@jupyter-widgets/base",
            "_model_module_version": "1.5.0",
            "_view_count": null,
            "_view_module_version": "1.2.0",
            "_model_module": "@jupyter-widgets/controls"
          }
        },
        "1668c6a9d5394ecd96263db9ec3c1151": {
          "model_module": "@jupyter-widgets/base",
          "model_name": "LayoutModel",
          "state": {
            "_view_name": "LayoutView",
            "grid_template_rows": null,
            "right": null,
            "justify_content": null,
            "_view_module": "@jupyter-widgets/base",
            "overflow": null,
            "_model_module_version": "1.2.0",
            "_view_count": null,
            "flex_flow": null,
            "width": null,
            "min_width": null,
            "border": null,
            "align_items": null,
            "bottom": null,
            "_model_module": "@jupyter-widgets/base",
            "top": null,
            "grid_column": null,
            "overflow_y": null,
            "overflow_x": null,
            "grid_auto_flow": null,
            "grid_area": null,
            "grid_template_columns": null,
            "flex": null,
            "_model_name": "LayoutModel",
            "justify_items": null,
            "grid_row": null,
            "max_height": null,
            "align_content": null,
            "visibility": null,
            "align_self": null,
            "height": null,
            "min_height": null,
            "padding": null,
            "grid_auto_rows": null,
            "grid_gap": null,
            "max_width": null,
            "order": null,
            "_view_module_version": "1.2.0",
            "grid_template_areas": null,
            "object_position": null,
            "object_fit": null,
            "grid_auto_columns": null,
            "margin": null,
            "display": null,
            "left": null
          }
        },
        "1939940b002d4c92b6fd25f74851cc2e": {
          "model_module": "@jupyter-widgets/controls",
          "model_name": "HBoxModel",
          "state": {
            "_view_name": "HBoxView",
            "_dom_classes": [],
            "_model_name": "HBoxModel",
            "_view_module": "@jupyter-widgets/controls",
            "_model_module_version": "1.5.0",
            "_view_count": null,
            "_view_module_version": "1.5.0",
            "box_style": "",
            "layout": "IPY_MODEL_98f699651c88457fb0135f8d5acc39fa",
            "_model_module": "@jupyter-widgets/controls",
            "children": [
              "IPY_MODEL_8136be5f315f41019cede2e5bb7b41dc",
              "IPY_MODEL_2c3bb23e1b854271b1a187e5c5200491"
            ]
          }
        },
        "98f699651c88457fb0135f8d5acc39fa": {
          "model_module": "@jupyter-widgets/base",
          "model_name": "LayoutModel",
          "state": {
            "_view_name": "LayoutView",
            "grid_template_rows": null,
            "right": null,
            "justify_content": null,
            "_view_module": "@jupyter-widgets/base",
            "overflow": null,
            "_model_module_version": "1.2.0",
            "_view_count": null,
            "flex_flow": null,
            "width": null,
            "min_width": null,
            "border": null,
            "align_items": null,
            "bottom": null,
            "_model_module": "@jupyter-widgets/base",
            "top": null,
            "grid_column": null,
            "overflow_y": null,
            "overflow_x": null,
            "grid_auto_flow": null,
            "grid_area": null,
            "grid_template_columns": null,
            "flex": null,
            "_model_name": "LayoutModel",
            "justify_items": null,
            "grid_row": null,
            "max_height": null,
            "align_content": null,
            "visibility": null,
            "align_self": null,
            "height": null,
            "min_height": null,
            "padding": null,
            "grid_auto_rows": null,
            "grid_gap": null,
            "max_width": null,
            "order": null,
            "_view_module_version": "1.2.0",
            "grid_template_areas": null,
            "object_position": null,
            "object_fit": null,
            "grid_auto_columns": null,
            "margin": null,
            "display": null,
            "left": null
          }
        },
        "8136be5f315f41019cede2e5bb7b41dc": {
          "model_module": "@jupyter-widgets/controls",
          "model_name": "IntProgressModel",
          "state": {
            "_view_name": "ProgressView",
            "style": "IPY_MODEL_d16f55a826d94b828b478653b077184e",
            "_dom_classes": [],
            "description": "",
            "_model_name": "IntProgressModel",
            "bar_style": "success",
            "max": 1,
            "_view_module": "@jupyter-widgets/controls",
            "_model_module_version": "1.5.0",
            "value": 1,
            "_view_count": null,
            "_view_module_version": "1.5.0",
            "orientation": "horizontal",
            "min": 0,
            "description_tooltip": null,
            "_model_module": "@jupyter-widgets/controls",
            "layout": "IPY_MODEL_3ea61d5ccb6144d3b17caec430044c43"
          }
        },
        "2c3bb23e1b854271b1a187e5c5200491": {
          "model_module": "@jupyter-widgets/controls",
          "model_name": "HTMLModel",
          "state": {
            "_view_name": "HTMLView",
            "style": "IPY_MODEL_40527f0401bd46a8b85957da25a44afa",
            "_dom_classes": [],
            "description": "",
            "_model_name": "HTMLModel",
            "placeholder": "​",
            "_view_module": "@jupyter-widgets/controls",
            "_model_module_version": "1.5.0",
            "value": "1654784it [00:00, 5184787.14it/s]",
            "_view_count": null,
            "_view_module_version": "1.5.0",
            "description_tooltip": null,
            "_model_module": "@jupyter-widgets/controls",
            "layout": "IPY_MODEL_278ee3b8e51c46d09d8a032f4e1baa56"
          }
        },
        "d16f55a826d94b828b478653b077184e": {
          "model_module": "@jupyter-widgets/controls",
          "model_name": "ProgressStyleModel",
          "state": {
            "_view_name": "StyleView",
            "_model_name": "ProgressStyleModel",
            "description_width": "",
            "_view_module": "@jupyter-widgets/base",
            "_model_module_version": "1.5.0",
            "_view_count": null,
            "_view_module_version": "1.2.0",
            "bar_color": null,
            "_model_module": "@jupyter-widgets/controls"
          }
        },
        "3ea61d5ccb6144d3b17caec430044c43": {
          "model_module": "@jupyter-widgets/base",
          "model_name": "LayoutModel",
          "state": {
            "_view_name": "LayoutView",
            "grid_template_rows": null,
            "right": null,
            "justify_content": null,
            "_view_module": "@jupyter-widgets/base",
            "overflow": null,
            "_model_module_version": "1.2.0",
            "_view_count": null,
            "flex_flow": null,
            "width": null,
            "min_width": null,
            "border": null,
            "align_items": null,
            "bottom": null,
            "_model_module": "@jupyter-widgets/base",
            "top": null,
            "grid_column": null,
            "overflow_y": null,
            "overflow_x": null,
            "grid_auto_flow": null,
            "grid_area": null,
            "grid_template_columns": null,
            "flex": null,
            "_model_name": "LayoutModel",
            "justify_items": null,
            "grid_row": null,
            "max_height": null,
            "align_content": null,
            "visibility": null,
            "align_self": null,
            "height": null,
            "min_height": null,
            "padding": null,
            "grid_auto_rows": null,
            "grid_gap": null,
            "max_width": null,
            "order": null,
            "_view_module_version": "1.2.0",
            "grid_template_areas": null,
            "object_position": null,
            "object_fit": null,
            "grid_auto_columns": null,
            "margin": null,
            "display": null,
            "left": null
          }
        },
        "40527f0401bd46a8b85957da25a44afa": {
          "model_module": "@jupyter-widgets/controls",
          "model_name": "DescriptionStyleModel",
          "state": {
            "_view_name": "StyleView",
            "_model_name": "DescriptionStyleModel",
            "description_width": "",
            "_view_module": "@jupyter-widgets/base",
            "_model_module_version": "1.5.0",
            "_view_count": null,
            "_view_module_version": "1.2.0",
            "_model_module": "@jupyter-widgets/controls"
          }
        },
        "278ee3b8e51c46d09d8a032f4e1baa56": {
          "model_module": "@jupyter-widgets/base",
          "model_name": "LayoutModel",
          "state": {
            "_view_name": "LayoutView",
            "grid_template_rows": null,
            "right": null,
            "justify_content": null,
            "_view_module": "@jupyter-widgets/base",
            "overflow": null,
            "_model_module_version": "1.2.0",
            "_view_count": null,
            "flex_flow": null,
            "width": null,
            "min_width": null,
            "border": null,
            "align_items": null,
            "bottom": null,
            "_model_module": "@jupyter-widgets/base",
            "top": null,
            "grid_column": null,
            "overflow_y": null,
            "overflow_x": null,
            "grid_auto_flow": null,
            "grid_area": null,
            "grid_template_columns": null,
            "flex": null,
            "_model_name": "LayoutModel",
            "justify_items": null,
            "grid_row": null,
            "max_height": null,
            "align_content": null,
            "visibility": null,
            "align_self": null,
            "height": null,
            "min_height": null,
            "padding": null,
            "grid_auto_rows": null,
            "grid_gap": null,
            "max_width": null,
            "order": null,
            "_view_module_version": "1.2.0",
            "grid_template_areas": null,
            "object_position": null,
            "object_fit": null,
            "grid_auto_columns": null,
            "margin": null,
            "display": null,
            "left": null
          }
        },
        "28f8e55de50b4ba7a9680539c12a31ee": {
          "model_module": "@jupyter-widgets/controls",
          "model_name": "HBoxModel",
          "state": {
            "_view_name": "HBoxView",
            "_dom_classes": [],
            "_model_name": "HBoxModel",
            "_view_module": "@jupyter-widgets/controls",
            "_model_module_version": "1.5.0",
            "_view_count": null,
            "_view_module_version": "1.5.0",
            "box_style": "",
            "layout": "IPY_MODEL_f47f577aed0d4a25bdf85470e1746d19",
            "_model_module": "@jupyter-widgets/controls",
            "children": [
              "IPY_MODEL_5ad77354b3cd4f5e8c1e8002c6972bed",
              "IPY_MODEL_29d13059bb7d4ed1a916a17d292f9d0a"
            ]
          }
        },
        "f47f577aed0d4a25bdf85470e1746d19": {
          "model_module": "@jupyter-widgets/base",
          "model_name": "LayoutModel",
          "state": {
            "_view_name": "LayoutView",
            "grid_template_rows": null,
            "right": null,
            "justify_content": null,
            "_view_module": "@jupyter-widgets/base",
            "overflow": null,
            "_model_module_version": "1.2.0",
            "_view_count": null,
            "flex_flow": null,
            "width": null,
            "min_width": null,
            "border": null,
            "align_items": null,
            "bottom": null,
            "_model_module": "@jupyter-widgets/base",
            "top": null,
            "grid_column": null,
            "overflow_y": null,
            "overflow_x": null,
            "grid_auto_flow": null,
            "grid_area": null,
            "grid_template_columns": null,
            "flex": null,
            "_model_name": "LayoutModel",
            "justify_items": null,
            "grid_row": null,
            "max_height": null,
            "align_content": null,
            "visibility": null,
            "align_self": null,
            "height": null,
            "min_height": null,
            "padding": null,
            "grid_auto_rows": null,
            "grid_gap": null,
            "max_width": null,
            "order": null,
            "_view_module_version": "1.2.0",
            "grid_template_areas": null,
            "object_position": null,
            "object_fit": null,
            "grid_auto_columns": null,
            "margin": null,
            "display": null,
            "left": null
          }
        },
        "5ad77354b3cd4f5e8c1e8002c6972bed": {
          "model_module": "@jupyter-widgets/controls",
          "model_name": "IntProgressModel",
          "state": {
            "_view_name": "ProgressView",
            "style": "IPY_MODEL_fb7ec1411e994bd8ae64e04112a87259",
            "_dom_classes": [],
            "description": "",
            "_model_name": "IntProgressModel",
            "bar_style": "success",
            "max": 1,
            "_view_module": "@jupyter-widgets/controls",
            "_model_module_version": "1.5.0",
            "value": 1,
            "_view_count": null,
            "_view_module_version": "1.5.0",
            "orientation": "horizontal",
            "min": 0,
            "description_tooltip": null,
            "_model_module": "@jupyter-widgets/controls",
            "layout": "IPY_MODEL_353f1aabd53f43a098b704adb1efce1b"
          }
        },
        "29d13059bb7d4ed1a916a17d292f9d0a": {
          "model_module": "@jupyter-widgets/controls",
          "model_name": "HTMLModel",
          "state": {
            "_view_name": "HTMLView",
            "style": "IPY_MODEL_221ecd86d8154a7b8e0c3c8b1853466d",
            "_dom_classes": [],
            "description": "",
            "_model_name": "HTMLModel",
            "placeholder": "​",
            "_view_module": "@jupyter-widgets/controls",
            "_model_module_version": "1.5.0",
            "value": "8192it [00:00, 83744.19it/s]",
            "_view_count": null,
            "_view_module_version": "1.5.0",
            "description_tooltip": null,
            "_model_module": "@jupyter-widgets/controls",
            "layout": "IPY_MODEL_42d17e5138c54d048c57307719419221"
          }
        },
        "fb7ec1411e994bd8ae64e04112a87259": {
          "model_module": "@jupyter-widgets/controls",
          "model_name": "ProgressStyleModel",
          "state": {
            "_view_name": "StyleView",
            "_model_name": "ProgressStyleModel",
            "description_width": "",
            "_view_module": "@jupyter-widgets/base",
            "_model_module_version": "1.5.0",
            "_view_count": null,
            "_view_module_version": "1.2.0",
            "bar_color": null,
            "_model_module": "@jupyter-widgets/controls"
          }
        },
        "353f1aabd53f43a098b704adb1efce1b": {
          "model_module": "@jupyter-widgets/base",
          "model_name": "LayoutModel",
          "state": {
            "_view_name": "LayoutView",
            "grid_template_rows": null,
            "right": null,
            "justify_content": null,
            "_view_module": "@jupyter-widgets/base",
            "overflow": null,
            "_model_module_version": "1.2.0",
            "_view_count": null,
            "flex_flow": null,
            "width": null,
            "min_width": null,
            "border": null,
            "align_items": null,
            "bottom": null,
            "_model_module": "@jupyter-widgets/base",
            "top": null,
            "grid_column": null,
            "overflow_y": null,
            "overflow_x": null,
            "grid_auto_flow": null,
            "grid_area": null,
            "grid_template_columns": null,
            "flex": null,
            "_model_name": "LayoutModel",
            "justify_items": null,
            "grid_row": null,
            "max_height": null,
            "align_content": null,
            "visibility": null,
            "align_self": null,
            "height": null,
            "min_height": null,
            "padding": null,
            "grid_auto_rows": null,
            "grid_gap": null,
            "max_width": null,
            "order": null,
            "_view_module_version": "1.2.0",
            "grid_template_areas": null,
            "object_position": null,
            "object_fit": null,
            "grid_auto_columns": null,
            "margin": null,
            "display": null,
            "left": null
          }
        },
        "221ecd86d8154a7b8e0c3c8b1853466d": {
          "model_module": "@jupyter-widgets/controls",
          "model_name": "DescriptionStyleModel",
          "state": {
            "_view_name": "StyleView",
            "_model_name": "DescriptionStyleModel",
            "description_width": "",
            "_view_module": "@jupyter-widgets/base",
            "_model_module_version": "1.5.0",
            "_view_count": null,
            "_view_module_version": "1.2.0",
            "_model_module": "@jupyter-widgets/controls"
          }
        },
        "42d17e5138c54d048c57307719419221": {
          "model_module": "@jupyter-widgets/base",
          "model_name": "LayoutModel",
          "state": {
            "_view_name": "LayoutView",
            "grid_template_rows": null,
            "right": null,
            "justify_content": null,
            "_view_module": "@jupyter-widgets/base",
            "overflow": null,
            "_model_module_version": "1.2.0",
            "_view_count": null,
            "flex_flow": null,
            "width": null,
            "min_width": null,
            "border": null,
            "align_items": null,
            "bottom": null,
            "_model_module": "@jupyter-widgets/base",
            "top": null,
            "grid_column": null,
            "overflow_y": null,
            "overflow_x": null,
            "grid_auto_flow": null,
            "grid_area": null,
            "grid_template_columns": null,
            "flex": null,
            "_model_name": "LayoutModel",
            "justify_items": null,
            "grid_row": null,
            "max_height": null,
            "align_content": null,
            "visibility": null,
            "align_self": null,
            "height": null,
            "min_height": null,
            "padding": null,
            "grid_auto_rows": null,
            "grid_gap": null,
            "max_width": null,
            "order": null,
            "_view_module_version": "1.2.0",
            "grid_template_areas": null,
            "object_position": null,
            "object_fit": null,
            "grid_auto_columns": null,
            "margin": null,
            "display": null,
            "left": null
          }
        }
      }
    }
  },
  "cells": [
    {
      "cell_type": "markdown",
      "metadata": {
        "id": "view-in-github",
        "colab_type": "text"
      },
      "source": [
        "<a href=\"https://colab.research.google.com/github/markvasin/deep_learning_exercise/blob/master/lab4/Lab4_hw.ipynb\" target=\"_parent\"><img src=\"https://colab.research.google.com/assets/colab-badge.svg\" alt=\"Open In Colab\"/></a>"
      ]
    },
    {
      "cell_type": "code",
      "metadata": {
        "id": "SYxGEGxkWPjv",
        "colab_type": "code",
        "colab": {
          "base_uri": "https://localhost:8080/",
          "height": 306
        },
        "outputId": "a0532f6e-8389-44f8-cd69-0a88a4e76447"
      },
      "source": [
        "# Execute this code block to install dependencies when running on colab\n",
        "try:\n",
        "    import torch\n",
        "except:\n",
        "    from os.path import exists\n",
        "    from wheel.pep425tags import get_abbr_impl, get_impl_ver, get_abi_tag\n",
        "    platform = '{}{}-{}'.format(get_abbr_impl(), get_impl_ver(), get_abi_tag())\n",
        "    cuda_output = !ldconfig -p|grep cudart.so|sed -e 's/.*\\.\\([0-9]*\\)\\.\\([0-9]*\\)$/cu\\1\\2/'\n",
        "    accelerator = cuda_output[0] if exists('/dev/nvidia0') else 'cpu'\n",
        "\n",
        "    !pip install -q http://download.pytorch.org/whl/{accelerator}/torch-1.0.0-{platform}-linux_x86_64.whl torchvision\n",
        "\n",
        "try: \n",
        "    import torchbearer\n",
        "except:\n",
        "    !pip install torchbearer\n",
        "\n",
        "!pip install ipython-autotime\n",
        "\n",
        "%load_ext autotime"
      ],
      "execution_count": null,
      "outputs": [
        {
          "output_type": "stream",
          "text": [
            "Collecting torchbearer\n",
            "\u001b[?25l  Downloading https://files.pythonhosted.org/packages/ff/e9/4049a47dd2e5b6346a2c5d215b0c67dce814afbab1cd54ce024533c4834e/torchbearer-0.5.3-py3-none-any.whl (138kB)\n",
            "\r\u001b[K     |██▍                             | 10kB 30.8MB/s eta 0:00:01\r\u001b[K     |████▊                           | 20kB 2.2MB/s eta 0:00:01\r\u001b[K     |███████▏                        | 30kB 3.0MB/s eta 0:00:01\r\u001b[K     |█████████▌                      | 40kB 2.1MB/s eta 0:00:01\r\u001b[K     |███████████▉                    | 51kB 2.4MB/s eta 0:00:01\r\u001b[K     |██████████████▎                 | 61kB 2.9MB/s eta 0:00:01\r\u001b[K     |████████████████▋               | 71kB 3.0MB/s eta 0:00:01\r\u001b[K     |███████████████████             | 81kB 3.2MB/s eta 0:00:01\r\u001b[K     |█████████████████████▍          | 92kB 3.6MB/s eta 0:00:01\r\u001b[K     |███████████████████████▊        | 102kB 3.4MB/s eta 0:00:01\r\u001b[K     |██████████████████████████      | 112kB 3.4MB/s eta 0:00:01\r\u001b[K     |████████████████████████████▌   | 122kB 3.4MB/s eta 0:00:01\r\u001b[K     |██████████████████████████████▉ | 133kB 3.4MB/s eta 0:00:01\r\u001b[K     |████████████████████████████████| 143kB 3.4MB/s \n",
            "\u001b[?25hRequirement already satisfied: tqdm in /usr/local/lib/python3.6/dist-packages (from torchbearer) (4.28.1)\n",
            "Requirement already satisfied: torch>=1.0.0 in /usr/local/lib/python3.6/dist-packages (from torchbearer) (1.4.0)\n",
            "Requirement already satisfied: numpy in /usr/local/lib/python3.6/dist-packages (from torchbearer) (1.17.5)\n",
            "Installing collected packages: torchbearer\n",
            "Successfully installed torchbearer-0.5.3\n",
            "Collecting ipython-autotime\n",
            "  Downloading https://files.pythonhosted.org/packages/e6/f9/0626bbdb322e3a078d968e87e3b01341e7890544de891d0cb613641220e6/ipython-autotime-0.1.tar.bz2\n",
            "Building wheels for collected packages: ipython-autotime\n",
            "  Building wheel for ipython-autotime (setup.py) ... \u001b[?25l\u001b[?25hdone\n",
            "  Created wheel for ipython-autotime: filename=ipython_autotime-0.1-cp36-none-any.whl size=1832 sha256=f78ca210ec9e581ae8fe713f8405c47a2b46c844f21e61aa249fbe5965dd0d7e\n",
            "  Stored in directory: /root/.cache/pip/wheels/d2/df/81/2db1e54bc91002cec40334629bc39cfa86dff540b304ebcd6e\n",
            "Successfully built ipython-autotime\n",
            "Installing collected packages: ipython-autotime\n",
            "Successfully installed ipython-autotime-0.1\n"
          ],
          "name": "stdout"
        }
      ]
    },
    {
      "cell_type": "markdown",
      "metadata": {
        "id": "8WhjibbYWFQj",
        "colab_type": "text"
      },
      "source": [
        "#Wide MLPs on MNIST#"
      ]
    },
    {
      "cell_type": "code",
      "metadata": {
        "id": "VKlflmXCGcoF",
        "colab_type": "code",
        "colab": {
          "base_uri": "https://localhost:8080/",
          "height": 34
        },
        "outputId": "c85df752-d613-48c8-9abf-d8aae38fea59"
      },
      "source": [
        "import torch\n",
        "import torch.nn.functional as F\n",
        "import torchvision.transforms as transforms\n",
        "from torch import nn\n",
        "from torch import optim\n",
        "from torch.utils.data import DataLoader\n",
        "from torchvision.datasets import MNIST\n",
        "import matplotlib.pyplot as plt\n",
        "\n",
        "# fix random seed for reproducibility\n",
        "seed = 7\n",
        "torch.manual_seed(seed)\n",
        "torch.backends.cudnn.deterministic = True\n",
        "torch.backends.cudnn.benchmark = False\n",
        "import numpy as np\n",
        "np.random.seed(seed)"
      ],
      "execution_count": null,
      "outputs": [
        {
          "output_type": "stream",
          "text": [
            "time: 196 ms\n"
          ],
          "name": "stdout"
        }
      ]
    },
    {
      "cell_type": "markdown",
      "metadata": {
        "id": "x0pIUZW2Wjxm",
        "colab_type": "text"
      },
      "source": [
        "##Loading MNIST data##"
      ]
    },
    {
      "cell_type": "code",
      "metadata": {
        "id": "4ADdjgzuWZBM",
        "colab_type": "code",
        "colab": {
          "base_uri": "https://localhost:8080/",
          "height": 400,
          "referenced_widgets": [
            "476f5e5aac9f4e05932048c9db685743",
            "9ac1f33c59b34710ae5fbb41bf98c93c",
            "673a9f8e98164bfdb496e920adf0c032",
            "ec0caa4cc763487bb2fa5a59372e5ce0",
            "06bd9c7d4c2e45d9b0b72a53aafb8599",
            "f547ac342ba947208ec8769fd9dbbfd3",
            "2011220993ba4e60b9ed1f5f5a624a64",
            "979c194e77214d06887fedfcac4586cb",
            "49519abe3a48448cb2bf2bbeaa891fad",
            "974a363cc76c4a2abcc38c6e69ce28b9",
            "14481982d5ff4699b3f742a7d1f2f370",
            "f18046e146ef4ae4a5b566bef6575047",
            "9bf05fc7eef64adeb73d65bfd28d27f9",
            "48a276294a914931902c468bf7eae38e",
            "6a661c2ecf024aee9d339fad46f0444c",
            "1668c6a9d5394ecd96263db9ec3c1151",
            "1939940b002d4c92b6fd25f74851cc2e",
            "98f699651c88457fb0135f8d5acc39fa",
            "8136be5f315f41019cede2e5bb7b41dc",
            "2c3bb23e1b854271b1a187e5c5200491",
            "d16f55a826d94b828b478653b077184e",
            "3ea61d5ccb6144d3b17caec430044c43",
            "40527f0401bd46a8b85957da25a44afa",
            "278ee3b8e51c46d09d8a032f4e1baa56",
            "28f8e55de50b4ba7a9680539c12a31ee",
            "f47f577aed0d4a25bdf85470e1746d19",
            "5ad77354b3cd4f5e8c1e8002c6972bed",
            "29d13059bb7d4ed1a916a17d292f9d0a",
            "fb7ec1411e994bd8ae64e04112a87259",
            "353f1aabd53f43a098b704adb1efce1b",
            "221ecd86d8154a7b8e0c3c8b1853466d",
            "42d17e5138c54d048c57307719419221"
          ]
        },
        "outputId": "56bc7ab9-2b1f-4ccb-9fee-cc570bbbdf1e"
      },
      "source": [
        "# flatten 28*28 images to a 784 vector for each image\n",
        "transform = transforms.Compose([\n",
        "    transforms.ToTensor(),  # convert to tensor\n",
        "    transforms.Lambda(lambda x: x.view(-1))  # flatten into vector\n",
        "])\n",
        "\n",
        "trainset = MNIST(\".\", train=True, download=True, transform=transform)\n",
        "testset = MNIST(\".\", train=False, download=True, transform=transform)\n",
        "\n",
        "# create data loaders\n",
        "trainloader = DataLoader(trainset, batch_size=128, shuffle=True)\n",
        "testloader = DataLoader(testset, batch_size=128, shuffle=True)"
      ],
      "execution_count": null,
      "outputs": [
        {
          "output_type": "stream",
          "text": [
            "Downloading http://yann.lecun.com/exdb/mnist/train-images-idx3-ubyte.gz to ./MNIST/raw/train-images-idx3-ubyte.gz\n"
          ],
          "name": "stdout"
        },
        {
          "output_type": "display_data",
          "data": {
            "application/vnd.jupyter.widget-view+json": {
              "model_id": "476f5e5aac9f4e05932048c9db685743",
              "version_minor": 0,
              "version_major": 2
            },
            "text/plain": [
              "HBox(children=(IntProgress(value=1, bar_style='info', max=1), HTML(value='')))"
            ]
          },
          "metadata": {
            "tags": []
          }
        },
        {
          "output_type": "stream",
          "text": [
            "\n",
            "Extracting ./MNIST/raw/train-images-idx3-ubyte.gz to ./MNIST/raw\n",
            "Downloading http://yann.lecun.com/exdb/mnist/train-labels-idx1-ubyte.gz to ./MNIST/raw/train-labels-idx1-ubyte.gz\n"
          ],
          "name": "stdout"
        },
        {
          "output_type": "display_data",
          "data": {
            "application/vnd.jupyter.widget-view+json": {
              "model_id": "49519abe3a48448cb2bf2bbeaa891fad",
              "version_minor": 0,
              "version_major": 2
            },
            "text/plain": [
              "HBox(children=(IntProgress(value=1, bar_style='info', max=1), HTML(value='')))"
            ]
          },
          "metadata": {
            "tags": []
          }
        },
        {
          "output_type": "stream",
          "text": [
            "\n",
            "Extracting ./MNIST/raw/train-labels-idx1-ubyte.gz to ./MNIST/raw\n",
            "Downloading http://yann.lecun.com/exdb/mnist/t10k-images-idx3-ubyte.gz to ./MNIST/raw/t10k-images-idx3-ubyte.gz\n"
          ],
          "name": "stdout"
        },
        {
          "output_type": "display_data",
          "data": {
            "application/vnd.jupyter.widget-view+json": {
              "model_id": "1939940b002d4c92b6fd25f74851cc2e",
              "version_minor": 0,
              "version_major": 2
            },
            "text/plain": [
              "HBox(children=(IntProgress(value=1, bar_style='info', max=1), HTML(value='')))"
            ]
          },
          "metadata": {
            "tags": []
          }
        },
        {
          "output_type": "stream",
          "text": [
            "\n",
            "Extracting ./MNIST/raw/t10k-images-idx3-ubyte.gz to ./MNIST/raw\n",
            "Downloading http://yann.lecun.com/exdb/mnist/t10k-labels-idx1-ubyte.gz to ./MNIST/raw/t10k-labels-idx1-ubyte.gz\n"
          ],
          "name": "stdout"
        },
        {
          "output_type": "display_data",
          "data": {
            "application/vnd.jupyter.widget-view+json": {
              "model_id": "28f8e55de50b4ba7a9680539c12a31ee",
              "version_minor": 0,
              "version_major": 2
            },
            "text/plain": [
              "HBox(children=(IntProgress(value=1, bar_style='info', max=1), HTML(value='')))"
            ]
          },
          "metadata": {
            "tags": []
          }
        },
        {
          "output_type": "stream",
          "text": [
            "\n",
            "Extracting ./MNIST/raw/t10k-labels-idx1-ubyte.gz to ./MNIST/raw\n",
            "Processing...\n",
            "Done!\n",
            "time: 1.56 s\n"
          ],
          "name": "stdout"
        }
      ]
    },
    {
      "cell_type": "markdown",
      "metadata": {
        "id": "LSnFfbCpW2-F",
        "colab_type": "text"
      },
      "source": [
        "##MLP Model##"
      ]
    },
    {
      "cell_type": "code",
      "metadata": {
        "id": "cgRTuGldW5M9",
        "colab_type": "code",
        "colab": {
          "base_uri": "https://localhost:8080/",
          "height": 34
        },
        "outputId": "feaa6b96-aba6-4700-d194-5f36746fc215"
      },
      "source": [
        "# define baseline model\n",
        "class BaselineModel(nn.Module):\n",
        "    def __init__(self, input_size, hidden_size, num_classes):\n",
        "        super(BaselineModel, self).__init__()\n",
        "        self.fc1 = nn.Linear(input_size, hidden_size) \n",
        "        self.fc2 = nn.Linear(hidden_size, num_classes)  \n",
        "    \n",
        "    def forward(self, x):\n",
        "        out = self.fc1(x)\n",
        "        out = F.relu(out)\n",
        "        out = self.fc2(out)\n",
        "        if not self.training:\n",
        "            out = F.softmax(out, dim=1)\n",
        "        return out"
      ],
      "execution_count": null,
      "outputs": [
        {
          "output_type": "stream",
          "text": [
            "time: 3.81 ms\n"
          ],
          "name": "stdout"
        }
      ]
    },
    {
      "cell_type": "markdown",
      "metadata": {
        "id": "JJnRh1FGXDRd",
        "colab_type": "text"
      },
      "source": [
        "##Training and Evaluating MLP models##"
      ]
    },
    {
      "cell_type": "markdown",
      "metadata": {
        "id": "-gSJwrCkowtq",
        "colab_type": "text"
      },
      "source": [
        "###Baseling model with 784 hidden nodes###"
      ]
    },
    {
      "cell_type": "code",
      "metadata": {
        "id": "Zw4PTeiTXHnS",
        "colab_type": "code",
        "colab": {
          "base_uri": "https://localhost:8080/",
          "height": 730
        },
        "outputId": "f8c01115-508a-46c2-9385-73ad0542c4fd"
      },
      "source": [
        "device = \"cuda:0\" if torch.cuda.is_available() else \"cpu\"\n",
        "# build the model \n",
        "model = BaselineModel(784, 784, 10).to(device)\n",
        "\n",
        "# define the loss function and the optimiser\n",
        "loss_function = nn.CrossEntropyLoss()\n",
        "optimiser = optim.Adam(model.parameters())\n",
        "\n",
        "num_opoch = 20\n",
        "e_train_plot = np.zeros((num_opoch, 1))\n",
        "e_test_plot = np.zeros((num_opoch, 1))\n",
        "acc_train_plot = np.zeros((num_opoch, 1))\n",
        "acc_test_plot = np.zeros((num_opoch, 1))\n",
        "\n",
        "# the epoch loop\n",
        "for epoch in range(num_opoch):\n",
        "    \n",
        "    # training\n",
        "    model.train()\n",
        "    training_loss = 0.0\n",
        "    correct = 0\n",
        "    total = 0\n",
        "    for data in trainloader:\n",
        "        # get the inputs\n",
        "        inputs, labels = data\n",
        "        inputs, labels = inputs.to(device), labels.to(device)\n",
        "        # zero the parameter gradients\n",
        "        optimiser.zero_grad()\n",
        "\n",
        "        # forward + loss + backward + optimise (update weights)\n",
        "        outputs = model(inputs)\n",
        "        loss = loss_function(outputs, labels)\n",
        "        loss.backward()\n",
        "        optimiser.step()\n",
        "\n",
        "        # keep track of the loss this epoch\n",
        "        training_loss += loss.item()\n",
        "\n",
        "        prediction = torch.argmax(outputs, dim=1)\n",
        "        correct += (prediction == labels).float().sum()\n",
        "        total += labels.shape[0]\n",
        "    \n",
        "    e_train_plot[epoch] = training_loss\n",
        "    acc_train_plot[epoch] = ((100.0 * correct.item()) / total)\n",
        "\n",
        "    # testing\n",
        "    model.eval()\n",
        "    testing_loss = 0.0\n",
        "    correct = 0\n",
        "    total = 0\n",
        "    for data in testloader:\n",
        "        inputs, labels = data\n",
        "        inputs, labels = inputs.to(device), labels.to(device)\n",
        "        outputs = model(inputs)\n",
        "        loss = loss_function(outputs, labels)\n",
        "        testing_loss += loss.item()\n",
        "        prediction = torch.argmax(outputs, dim=1)\n",
        "        correct += (prediction == labels).float().sum()\n",
        "        total += labels.shape[0]\n",
        "    \n",
        "    e_test_plot[epoch] = testing_loss\n",
        "    acc_test_plot[epoch] = ((100.0 * correct.item()) / total)\n",
        "    print(\"Epoch %d\" % epoch)\n",
        "\n",
        "fig, (ax1, ax2) = plt.subplots(1, 2, figsize=(15,5))\n",
        "ax1.plot(e_train_plot, label='train')\n",
        "ax1.plot(e_test_plot, label='test')\n",
        "ax1.set_xlabel(\"Iteration\", fontsize=14)\n",
        "ax1.set_ylabel(\"Error\", fontsize=14)\n",
        "ax1.grid(True)\n",
        "ax1.legend()\n",
        "ax1.set_title(\"Error of MLP with 784 hidden nides\",fontsize=16)\n",
        "\n",
        "ax2.plot(acc_train_plot, label='train')\n",
        "ax2.plot(acc_test_plot, label='test')\n",
        "ax2.set_xlabel(\"Iteration\", fontsize=14)\n",
        "ax2.set_ylabel(\"Accuracy\", fontsize=14)\n",
        "ax2.grid(True)\n",
        "ax2.legend()\n",
        "ax2.set_title(\"Accuracy of MLP with 784 hidden nides\",fontsize=16)"
      ],
      "execution_count": null,
      "outputs": [
        {
          "output_type": "stream",
          "text": [
            "Epoch 0\n",
            "Epoch 1\n",
            "Epoch 2\n",
            "Epoch 3\n",
            "Epoch 4\n",
            "Epoch 5\n",
            "Epoch 6\n",
            "Epoch 7\n",
            "Epoch 8\n",
            "Epoch 9\n",
            "Epoch 10\n",
            "Epoch 11\n",
            "Epoch 12\n",
            "Epoch 13\n",
            "Epoch 14\n",
            "Epoch 15\n",
            "Epoch 16\n",
            "Epoch 17\n",
            "Epoch 18\n",
            "Epoch 19\n"
          ],
          "name": "stdout"
        },
        {
          "output_type": "execute_result",
          "data": {
            "text/plain": [
              "Text(0.5, 1.0, 'Accuracy of MLP with 784 hidden nides')"
            ]
          },
          "metadata": {
            "tags": []
          },
          "execution_count": 11
        },
        {
          "output_type": "display_data",
          "data": {
            "image/png": "[encoded data removed]",
            "text/plain": [
              "<Figure size 1080x360 with 2 Axes>"
            ]
          },
          "metadata": {
            "tags": []
          }
        },
        {
          "output_type": "stream",
          "text": [
            "time: 1min 59s\n"
          ],
          "name": "stdout"
        }
      ]
    },
    {
      "cell_type": "markdown",
      "metadata": {
        "id": "5f-od2cwo5mO",
        "colab_type": "text"
      },
      "source": [
        "###MLP with 500000 hidden units###"
      ]
    },
    {
      "cell_type": "code",
      "metadata": {
        "id": "aVZMNa2do5Nq",
        "colab_type": "code",
        "colab": {
          "base_uri": "https://localhost:8080/",
          "height": 730
        },
        "outputId": "07bbe5db-8a07-489c-dc2d-5dad78addfbf"
      },
      "source": [
        "device = \"cuda:0\" if torch.cuda.is_available() else \"cpu\"\n",
        "# build the model \n",
        "model = BaselineModel(784, 500000, 10).to(device)\n",
        "\n",
        "# define the loss function and the optimiser\n",
        "loss_function = nn.CrossEntropyLoss()\n",
        "optimiser = optim.Adam(model.parameters())\n",
        "\n",
        "num_opoch = 20\n",
        "e_train_plot = np.zeros((num_opoch, 1))\n",
        "e_test_plot = np.zeros((num_opoch, 1))\n",
        "acc_train_plot = np.zeros((num_opoch, 1))\n",
        "acc_test_plot = np.zeros((num_opoch, 1))\n",
        "\n",
        "# the epoch loop\n",
        "for epoch in range(num_opoch):\n",
        "    \n",
        "    # training\n",
        "    model.train()\n",
        "    training_loss = 0.0\n",
        "    correct = 0\n",
        "    total = 0\n",
        "    for data in trainloader:\n",
        "        # get the inputs\n",
        "        inputs, labels = data\n",
        "        inputs, labels = inputs.to(device), labels.to(device)\n",
        "        # zero the parameter gradients\n",
        "        optimiser.zero_grad()\n",
        "\n",
        "        # forward + loss + backward + optimise (update weights)\n",
        "        outputs = model(inputs)\n",
        "        loss = loss_function(outputs, labels)\n",
        "        loss.backward()\n",
        "        optimiser.step()\n",
        "\n",
        "        # keep track of the loss this epoch\n",
        "        training_loss += loss.item()\n",
        "\n",
        "        prediction = torch.argmax(outputs, dim=1)\n",
        "        correct += (prediction == labels).float().sum()\n",
        "        total += labels.shape[0]\n",
        "    \n",
        "    e_train_plot[epoch] = training_loss\n",
        "    acc_train_plot[epoch] = ((100.0 * correct.item()) / total)\n",
        "\n",
        "    # testing\n",
        "    model.eval()\n",
        "    testing_loss = 0.0\n",
        "    correct = 0\n",
        "    total = 0\n",
        "    for data in testloader:\n",
        "        inputs, labels = data\n",
        "        inputs, labels = inputs.to(device), labels.to(device)\n",
        "        outputs = model(inputs)\n",
        "        loss = loss_function(outputs, labels)\n",
        "        testing_loss += loss.item()\n",
        "        prediction = torch.argmax(outputs, dim=1)\n",
        "        correct += (prediction == labels).float().sum()\n",
        "        total += labels.shape[0]\n",
        "    \n",
        "    e_test_plot[epoch] = testing_loss\n",
        "    acc_test_plot[epoch] = ((100.0 * correct.item()) / total)\n",
        "    print(\"Epoch %d\" % epoch)\n",
        "\n",
        "fig, (ax1, ax2) = plt.subplots(1, 2, figsize=(15,5))\n",
        "ax1.plot(e_train_plot, label='train')\n",
        "ax1.plot(e_test_plot, label='test')\n",
        "ax1.set_xlabel(\"Iteration\", fontsize=14)\n",
        "ax1.set_ylabel(\"Error\", fontsize=14)\n",
        "ax1.grid(True)\n",
        "ax1.legend()\n",
        "ax1.set_title(\"Error of MLP with 784 hidden nides\",fontsize=16)\n",
        "\n",
        "ax2.plot(acc_train_plot, label='train')\n",
        "ax2.plot(acc_test_plot, label='test')\n",
        "ax2.set_xlabel(\"Iteration\", fontsize=14)\n",
        "ax2.set_ylabel(\"Accuracy\", fontsize=14)\n",
        "ax2.grid(True)\n",
        "ax2.legend()\n",
        "ax2.set_title(\"Accuracy of MLP with 784 hidden nides\",fontsize=16)"
      ],
      "execution_count": null,
      "outputs": [
        {
          "output_type": "stream",
          "text": [
            "Epoch 0\n",
            "Epoch 1\n",
            "Epoch 2\n",
            "Epoch 3\n",
            "Epoch 4\n",
            "Epoch 5\n",
            "Epoch 6\n",
            "Epoch 7\n",
            "Epoch 8\n",
            "Epoch 9\n",
            "Epoch 10\n",
            "Epoch 11\n",
            "Epoch 12\n",
            "Epoch 13\n",
            "Epoch 14\n",
            "Epoch 15\n",
            "Epoch 16\n",
            "Epoch 17\n",
            "Epoch 18\n",
            "Epoch 19\n"
          ],
          "name": "stdout"
        },
        {
          "output_type": "execute_result",
          "data": {
            "text/plain": [
              "Text(0.5, 1.0, 'Accuracy of MLP with 784 hidden nides')"
            ]
          },
          "metadata": {
            "tags": []
          },
          "execution_count": 15
        },
        {
          "output_type": "display_data",
          "data": {
            "image/png": "[encoded data removed]",
            "text/plain": [
              "<Figure size 1080x360 with 2 Axes>"
            ]
          },
          "metadata": {
            "tags": []
          }
        },
        {
          "output_type": "stream",
          "text": [
            "time: 35min 36s\n"
          ],
          "name": "stdout"
        }
      ]
    },
    {
      "cell_type": "markdown",
      "metadata": {
        "id": "HhBrv4qLwIEw",
        "colab_type": "text"
      },
      "source": [
        "###MLP with 10000 hidden units###"
      ]
    },
    {
      "cell_type": "code",
      "metadata": {
        "id": "SaE86PCCnWhf",
        "colab_type": "code",
        "colab": {
          "base_uri": "https://localhost:8080/",
          "height": 730
        },
        "outputId": "c3127bb0-e0c5-4a97-ddbe-52dc579cd05a"
      },
      "source": [
        "device = \"cuda:0\" if torch.cuda.is_available() else \"cpu\"\n",
        "# build the model \n",
        "model = BaselineModel(784, 10000, 10).to(device)\n",
        "\n",
        "# define the loss function and the optimiser\n",
        "loss_function = nn.CrossEntropyLoss()\n",
        "optimiser = optim.Adam(model.parameters())\n",
        "\n",
        "num_opoch = 20\n",
        "e_train_plot = np.zeros((num_opoch, 1))\n",
        "e_test_plot = np.zeros((num_opoch, 1))\n",
        "acc_train_plot = np.zeros((num_opoch, 1))\n",
        "acc_test_plot = np.zeros((num_opoch, 1))\n",
        "\n",
        "# the epoch loop\n",
        "for epoch in range(num_opoch):\n",
        "    \n",
        "    # training\n",
        "    model.train()\n",
        "    training_loss = 0.0\n",
        "    correct = 0\n",
        "    total = 0\n",
        "    for data in trainloader:\n",
        "        # get the inputs\n",
        "        inputs, labels = data\n",
        "        inputs, labels = inputs.to(device), labels.to(device)\n",
        "        # zero the parameter gradients\n",
        "        optimiser.zero_grad()\n",
        "\n",
        "        # forward + loss + backward + optimise (update weights)\n",
        "        outputs = model(inputs)\n",
        "        loss = loss_function(outputs, labels)\n",
        "        loss.backward()\n",
        "        optimiser.step()\n",
        "\n",
        "        # keep track of the loss this epoch\n",
        "        training_loss += loss.item()\n",
        "\n",
        "        prediction = torch.argmax(outputs, dim=1)\n",
        "        correct += (prediction == labels).float().sum()\n",
        "        total += labels.shape[0]\n",
        "    \n",
        "    e_train_plot[epoch] = training_loss\n",
        "    acc_train_plot[epoch] = ((100.0 * correct.item()) / total)\n",
        "\n",
        "    # testing\n",
        "    model.eval()\n",
        "    testing_loss = 0.0\n",
        "    correct = 0\n",
        "    total = 0\n",
        "    for data in testloader:\n",
        "        inputs, labels = data\n",
        "        inputs, labels = inputs.to(device), labels.to(device)\n",
        "        outputs = model(inputs)\n",
        "        loss = loss_function(outputs, labels)\n",
        "        testing_loss += loss.item()\n",
        "        prediction = torch.argmax(outputs, dim=1)\n",
        "        correct += (prediction == labels).float().sum()\n",
        "        total += labels.shape[0]\n",
        "    \n",
        "    e_test_plot[epoch] = testing_loss\n",
        "    acc_test_plot[epoch] = ((100.0 * correct.item()) / total)\n",
        "    print(\"Epoch %d\" % epoch)\n",
        "\n",
        "\n",
        "fig, (ax1, ax2) = plt.subplots(1, 2, figsize=(15,5))\n",
        "ax1.plot(e_train_plot, label='train')\n",
        "ax1.plot(e_test_plot, label='test')\n",
        "ax1.set_xlabel(\"Iteration\", fontsize=14)\n",
        "ax1.set_ylabel(\"Error\", fontsize=14)\n",
        "ax1.grid(True)\n",
        "ax1.legend()\n",
        "ax1.set_title(\"Error of MLP with 10000 hidden nides\",fontsize=16)\n",
        "\n",
        "ax2.plot(acc_train_plot, label='train')\n",
        "ax2.plot(acc_test_plot, label='test')\n",
        "ax2.set_xlabel(\"Iteration\", fontsize=14)\n",
        "ax2.set_ylabel(\"Accuracy\", fontsize=14)\n",
        "ax2.grid(True)\n",
        "ax2.legend()\n",
        "ax2.set_title(\"Accuracy of MLP with 10000 hidden nides\",fontsize=16)"
      ],
      "execution_count": null,
      "outputs": [
        {
          "output_type": "stream",
          "text": [
            "Epoch 0\n",
            "Epoch 1\n",
            "Epoch 2\n",
            "Epoch 3\n",
            "Epoch 4\n",
            "Epoch 5\n",
            "Epoch 6\n",
            "Epoch 7\n",
            "Epoch 8\n",
            "Epoch 9\n",
            "Epoch 10\n",
            "Epoch 11\n",
            "Epoch 12\n",
            "Epoch 13\n",
            "Epoch 14\n",
            "Epoch 15\n",
            "Epoch 16\n",
            "Epoch 17\n",
            "Epoch 18\n",
            "Epoch 19\n"
          ],
          "name": "stdout"
        },
        {
          "output_type": "execute_result",
          "data": {
            "text/plain": [
              "Text(0.5, 1.0, 'Accuracy of MLP with 10000 hidden nides')"
            ]
          },
          "metadata": {
            "tags": []
          },
          "execution_count": 19
        },
        {
          "output_type": "display_data",
          "data": {
            "image/png": "[encoded data removed]",
            "text/plain": [
              "<Figure size 1080x360 with 2 Axes>"
            ]
          },
          "metadata": {
            "tags": []
          }
        },
        {
          "output_type": "stream",
          "text": [
            "time: 2min 42s\n"
          ],
          "name": "stdout"
        }
      ]
    },
    {
      "cell_type": "markdown",
      "metadata": {
        "id": "ZhrjLSv4v_uM",
        "colab_type": "text"
      },
      "source": [
        "###MLP with 100 hidden units###"
      ]
    },
    {
      "cell_type": "code",
      "metadata": {
        "id": "dS5VHpOrs2Sj",
        "colab_type": "code",
        "colab": {
          "base_uri": "https://localhost:8080/",
          "height": 730
        },
        "outputId": "8a03ddb0-10c9-4e9a-8010-6c1a569a3d9e"
      },
      "source": [
        "device = \"cuda:0\" if torch.cuda.is_available() else \"cpu\"\n",
        "# build the model \n",
        "model = BaselineModel(784, 100, 10).to(device)\n",
        "\n",
        "# define the loss function and the optimiser\n",
        "loss_function = nn.CrossEntropyLoss()\n",
        "optimiser = optim.Adam(model.parameters())\n",
        "\n",
        "num_opoch = 20\n",
        "e_train_plot = np.zeros((num_opoch, 1))\n",
        "e_test_plot = np.zeros((num_opoch, 1))\n",
        "acc_train_plot = np.zeros((num_opoch, 1))\n",
        "acc_test_plot = np.zeros((num_opoch, 1))\n",
        "\n",
        "# the epoch loop\n",
        "for epoch in range(num_opoch):\n",
        "    \n",
        "    # training\n",
        "    model.train()\n",
        "    training_loss = 0.0\n",
        "    correct = 0\n",
        "    total = 0\n",
        "    for data in trainloader:\n",
        "        # get the inputs\n",
        "        inputs, labels = data\n",
        "        inputs, labels = inputs.to(device), labels.to(device)\n",
        "        # zero the parameter gradients\n",
        "        optimiser.zero_grad()\n",
        "\n",
        "        # forward + loss + backward + optimise (update weights)\n",
        "        outputs = model(inputs)\n",
        "        loss = loss_function(outputs, labels)\n",
        "        loss.backward()\n",
        "        optimiser.step()\n",
        "\n",
        "        # keep track of the loss this epoch\n",
        "        training_loss += loss.item()\n",
        "\n",
        "        prediction = torch.argmax(outputs, dim=1)\n",
        "        correct += (prediction == labels).float().sum()\n",
        "        total += labels.shape[0]\n",
        "    \n",
        "    e_train_plot[epoch] = training_loss\n",
        "    acc_train_plot[epoch] = ((100.0 * correct.item()) / total)\n",
        "\n",
        "    # testing\n",
        "    model.eval()\n",
        "    testing_loss = 0.0\n",
        "    correct = 0\n",
        "    total = 0\n",
        "    for data in testloader:\n",
        "        inputs, labels = data\n",
        "        inputs, labels = inputs.to(device), labels.to(device)\n",
        "        outputs = model(inputs)\n",
        "        loss = loss_function(outputs, labels)\n",
        "        testing_loss += loss.item()\n",
        "        prediction = torch.argmax(outputs, dim=1)\n",
        "        correct += (prediction == labels).float().sum()\n",
        "        total += labels.shape[0]\n",
        "    \n",
        "    e_test_plot[epoch] = testing_loss\n",
        "    acc_test_plot[epoch] = ((100.0 * correct.item()) / total)\n",
        "    print(\"Epoch %d\" % epoch)\n",
        "\n",
        "\n",
        "fig, (ax1, ax2) = plt.subplots(1, 2, figsize=(15,5))\n",
        "ax1.plot(e_train_plot, label='train')\n",
        "ax1.plot(e_test_plot, label='test')\n",
        "ax1.set_xlabel(\"Iteration\", fontsize=14)\n",
        "ax1.set_ylabel(\"Error\", fontsize=14)\n",
        "ax1.grid(True)\n",
        "ax1.legend()\n",
        "ax1.set_title(\"Error of MLP with 100 hidden nodes\",fontsize=16)\n",
        "\n",
        "ax2.plot(acc_train_plot, label='train')\n",
        "ax2.plot(acc_test_plot, label='test')\n",
        "ax2.set_xlabel(\"Iteration\", fontsize=14)\n",
        "ax2.set_ylabel(\"Accuracy\", fontsize=14)\n",
        "ax2.grid(True)\n",
        "ax2.legend()\n",
        "ax2.set_title(\"Accuracy of MLP with 100 hidden nodes\",fontsize=16)"
      ],
      "execution_count": null,
      "outputs": [
        {
          "output_type": "stream",
          "text": [
            "Epoch 0\n",
            "Epoch 1\n",
            "Epoch 2\n",
            "Epoch 3\n",
            "Epoch 4\n",
            "Epoch 5\n",
            "Epoch 6\n",
            "Epoch 7\n",
            "Epoch 8\n",
            "Epoch 9\n",
            "Epoch 10\n",
            "Epoch 11\n",
            "Epoch 12\n",
            "Epoch 13\n",
            "Epoch 14\n",
            "Epoch 15\n",
            "Epoch 16\n",
            "Epoch 17\n",
            "Epoch 18\n",
            "Epoch 19\n"
          ],
          "name": "stdout"
        },
        {
          "output_type": "execute_result",
          "data": {
            "text/plain": [
              "Text(0.5, 1.0, 'Accuracy of MLP with 100 hidden nodes')"
            ]
          },
          "metadata": {
            "tags": []
          },
          "execution_count": 24
        },
        {
          "output_type": "display_data",
          "data": {
            "image/png": "[encoded data removed]",
            "text/plain": [
              "<Figure size 1080x360 with 2 Axes>"
            ]
          },
          "metadata": {
            "tags": []
          }
        },
        {
          "output_type": "stream",
          "text": [
            "time: 2min\n"
          ],
          "name": "stdout"
        }
      ]
    },
    {
      "cell_type": "markdown",
      "metadata": {
        "id": "rHC5_2FPw1xk",
        "colab_type": "text"
      },
      "source": [
        "###MLP with 1000 hidden units###"
      ]
    },
    {
      "cell_type": "code",
      "metadata": {
        "id": "wWQjNk1Ww58c",
        "colab_type": "code",
        "colab": {
          "base_uri": "https://localhost:8080/",
          "height": 730
        },
        "outputId": "9678568e-b641-48b4-f1cb-2b000d741f13"
      },
      "source": [
        "device = \"cuda:0\" if torch.cuda.is_available() else \"cpu\"\n",
        "# build the model \n",
        "model = BaselineModel(784, 1000, 10).to(device)\n",
        "\n",
        "# define the loss function and the optimiser\n",
        "loss_function = nn.CrossEntropyLoss()\n",
        "optimiser = optim.Adam(model.parameters())\n",
        "\n",
        "num_opoch = 20\n",
        "e_train_plot = np.zeros((num_opoch, 1))\n",
        "e_test_plot = np.zeros((num_opoch, 1))\n",
        "acc_train_plot = np.zeros((num_opoch, 1))\n",
        "acc_test_plot = np.zeros((num_opoch, 1))\n",
        "\n",
        "# the epoch loop\n",
        "for epoch in range(num_opoch):\n",
        "    \n",
        "    # training\n",
        "    model.train()\n",
        "    training_loss = 0.0\n",
        "    correct = 0\n",
        "    total = 0\n",
        "    for data in trainloader:\n",
        "        # get the inputs\n",
        "        inputs, labels = data\n",
        "        inputs, labels = inputs.to(device), labels.to(device)\n",
        "        # zero the parameter gradients\n",
        "        optimiser.zero_grad()\n",
        "\n",
        "        # forward + loss + backward + optimise (update weights)\n",
        "        outputs = model(inputs)\n",
        "        loss = loss_function(outputs, labels)\n",
        "        loss.backward()\n",
        "        optimiser.step()\n",
        "\n",
        "        # keep track of the loss this epoch\n",
        "        training_loss += loss.item()\n",
        "\n",
        "        prediction = torch.argmax(outputs, dim=1)\n",
        "        correct += (prediction == labels).float().sum()\n",
        "        total += labels.shape[0]\n",
        "    \n",
        "    e_train_plot[epoch] = training_loss\n",
        "    acc_train_plot[epoch] = ((100.0 * correct.item()) / total)\n",
        "\n",
        "    # testing\n",
        "    model.eval()\n",
        "    testing_loss = 0.0\n",
        "    correct = 0\n",
        "    total = 0\n",
        "    for data in testloader:\n",
        "        inputs, labels = data\n",
        "        inputs, labels = inputs.to(device), labels.to(device)\n",
        "        outputs = model(inputs)\n",
        "        loss = loss_function(outputs, labels)\n",
        "        testing_loss += loss.item()\n",
        "        prediction = torch.argmax(outputs, dim=1)\n",
        "        correct += (prediction == labels).float().sum()\n",
        "        total += labels.shape[0]\n",
        "    \n",
        "    e_test_plot[epoch] = testing_loss\n",
        "    acc_test_plot[epoch] = ((100.0 * correct.item()) / total)\n",
        "    print(\"Epoch %d\" % epoch)\n",
        "\n",
        "\n",
        "fig, (ax1, ax2) = plt.subplots(1, 2, figsize=(15,5))\n",
        "ax1.plot(e_train_plot, label='train')\n",
        "ax1.plot(e_test_plot, label='test')\n",
        "ax1.set_xlabel(\"Iteration\", fontsize=14)\n",
        "ax1.set_ylabel(\"Error\", fontsize=14)\n",
        "ax1.grid(True)\n",
        "ax1.legend()\n",
        "ax1.set_title(\"Error of MLP with 100 hidden nodes\",fontsize=16)\n",
        "\n",
        "ax2.plot(acc_train_plot, label='train')\n",
        "ax2.plot(acc_test_plot, label='test')\n",
        "ax2.set_xlabel(\"Iteration\", fontsize=14)\n",
        "ax2.set_ylabel(\"Accuracy\", fontsize=14)\n",
        "ax2.grid(True)\n",
        "ax2.legend()\n",
        "ax2.set_title(\"Accuracy of MLP with 100 hidden nodes\",fontsize=16)"
      ],
      "execution_count": null,
      "outputs": [
        {
          "output_type": "stream",
          "text": [
            "Epoch 0\n",
            "Epoch 1\n",
            "Epoch 2\n",
            "Epoch 3\n",
            "Epoch 4\n",
            "Epoch 5\n",
            "Epoch 6\n",
            "Epoch 7\n",
            "Epoch 8\n",
            "Epoch 9\n",
            "Epoch 10\n",
            "Epoch 11\n",
            "Epoch 12\n",
            "Epoch 13\n",
            "Epoch 14\n",
            "Epoch 15\n",
            "Epoch 16\n",
            "Epoch 17\n",
            "Epoch 18\n",
            "Epoch 19\n"
          ],
          "name": "stdout"
        },
        {
          "output_type": "execute_result",
          "data": {
            "text/plain": [
              "Text(0.5, 1.0, 'Accuracy of MLP with 100 hidden nodes')"
            ]
          },
          "metadata": {
            "tags": []
          },
          "execution_count": 25
        },
        {
          "output_type": "display_data",
          "data": {
            "image/png": "[encoded data removed]",
            "text/plain": [
              "<Figure size 1080x360 with 2 Axes>"
            ]
          },
          "metadata": {
            "tags": []
          }
        },
        {
          "output_type": "stream",
          "text": [
            "time: 1min 59s\n"
          ],
          "name": "stdout"
        }
      ]
    },
    {
      "cell_type": "markdown",
      "metadata": {
        "id": "BmHdEeOUxcfO",
        "colab_type": "text"
      },
      "source": [
        "###MLP with 5000 hidden unites###"
      ]
    },
    {
      "cell_type": "code",
      "metadata": {
        "id": "Kp8XfxzwxvWH",
        "colab_type": "code",
        "colab": {
          "base_uri": "https://localhost:8080/",
          "height": 730
        },
        "outputId": "22072c4c-17dd-4d51-d684-73931d36d4ee"
      },
      "source": [
        "device = \"cuda:0\" if torch.cuda.is_available() else \"cpu\"\n",
        "# build the model \n",
        "model = BaselineModel(784, 5000, 10).to(device)\n",
        "\n",
        "# define the loss function and the optimiser\n",
        "loss_function = nn.CrossEntropyLoss()\n",
        "optimiser = optim.Adam(model.parameters())\n",
        "\n",
        "num_opoch = 20\n",
        "e_train_plot = np.zeros((num_opoch, 1))\n",
        "e_test_plot = np.zeros((num_opoch, 1))\n",
        "acc_train_plot = np.zeros((num_opoch, 1))\n",
        "acc_test_plot = np.zeros((num_opoch, 1))\n",
        "\n",
        "# the epoch loop\n",
        "for epoch in range(num_opoch):\n",
        "    \n",
        "    # training\n",
        "    model.train()\n",
        "    training_loss = 0.0\n",
        "    correct = 0\n",
        "    total = 0\n",
        "    for data in trainloader:\n",
        "        # get the inputs\n",
        "        inputs, labels = data\n",
        "        inputs, labels = inputs.to(device), labels.to(device)\n",
        "        # zero the parameter gradients\n",
        "        optimiser.zero_grad()\n",
        "\n",
        "        # forward + loss + backward + optimise (update weights)\n",
        "        outputs = model(inputs)\n",
        "        loss = loss_function(outputs, labels)\n",
        "        loss.backward()\n",
        "        optimiser.step()\n",
        "\n",
        "        # keep track of the loss this epoch\n",
        "        training_loss += loss.item()\n",
        "\n",
        "        prediction = torch.argmax(outputs, dim=1)\n",
        "        correct += (prediction == labels).float().sum()\n",
        "        total += labels.shape[0]\n",
        "    \n",
        "    e_train_plot[epoch] = training_loss\n",
        "    acc_train_plot[epoch] = ((100.0 * correct.item()) / total)\n",
        "\n",
        "    # testing\n",
        "    model.eval()\n",
        "    testing_loss = 0.0\n",
        "    correct = 0\n",
        "    total = 0\n",
        "    for data in testloader:\n",
        "        inputs, labels = data\n",
        "        inputs, labels = inputs.to(device), labels.to(device)\n",
        "        outputs = model(inputs)\n",
        "        loss = loss_function(outputs, labels)\n",
        "        testing_loss += loss.item()\n",
        "        prediction = torch.argmax(outputs, dim=1)\n",
        "        correct += (prediction == labels).float().sum()\n",
        "        total += labels.shape[0]\n",
        "    \n",
        "    e_test_plot[epoch] = testing_loss\n",
        "    acc_test_plot[epoch] = ((100.0 * correct.item()) / total)\n",
        "    print(\"Epoch %d\" % epoch)\n",
        "\n",
        "\n",
        "fig, (ax1, ax2) = plt.subplots(1, 2, figsize=(15,5))\n",
        "ax1.plot(e_train_plot, label='train')\n",
        "ax1.plot(e_test_plot, label='test')\n",
        "ax1.set_xlabel(\"Iteration\", fontsize=14)\n",
        "ax1.set_ylabel(\"Error\", fontsize=14)\n",
        "ax1.grid(True)\n",
        "ax1.legend()\n",
        "ax1.set_title(\"Error of MLP with 5000 hidden nodes\",fontsize=16)\n",
        "\n",
        "ax2.plot(acc_train_plot, label='train')\n",
        "ax2.plot(acc_test_plot, label='test')\n",
        "ax2.set_xlabel(\"Iteration\", fontsize=14)\n",
        "ax2.set_ylabel(\"Accuracy\", fontsize=14)\n",
        "ax2.grid(True)\n",
        "ax2.legend()\n",
        "ax2.set_title(\"Accuracy of MLP with 5000 hidden nodes\",fontsize=16)"
      ],
      "execution_count": null,
      "outputs": [
        {
          "output_type": "stream",
          "text": [
            "Epoch 0\n",
            "Epoch 1\n",
            "Epoch 2\n",
            "Epoch 3\n",
            "Epoch 4\n",
            "Epoch 5\n",
            "Epoch 6\n",
            "Epoch 7\n",
            "Epoch 8\n",
            "Epoch 9\n",
            "Epoch 10\n",
            "Epoch 11\n",
            "Epoch 12\n",
            "Epoch 13\n",
            "Epoch 14\n",
            "Epoch 15\n",
            "Epoch 16\n",
            "Epoch 17\n",
            "Epoch 18\n",
            "Epoch 19\n"
          ],
          "name": "stdout"
        },
        {
          "output_type": "execute_result",
          "data": {
            "text/plain": [
              "Text(0.5, 1.0, 'Accuracy of MLP with 5000 hidden nodes')"
            ]
          },
          "metadata": {
            "tags": []
          },
          "execution_count": 27
        },
        {
          "output_type": "display_data",
          "data": {
            "image/png": "[encoded data removed]",
            "text/plain": [
              "<Figure size 1080x360 with 2 Axes>"
            ]
          },
          "metadata": {
            "tags": []
          }
        },
        {
          "output_type": "stream",
          "text": [
            "time: 2min 19s\n"
          ],
          "name": "stdout"
        }
      ]
    },
    {
      "cell_type": "markdown",
      "metadata": {
        "id": "2EkIKjEszV6l",
        "colab_type": "text"
      },
      "source": [
        "###MLP with 20000 hidden units###"
      ]
    },
    {
      "cell_type": "code",
      "metadata": {
        "id": "S3x6WEnYzbmx",
        "colab_type": "code",
        "colab": {
          "base_uri": "https://localhost:8080/",
          "height": 730
        },
        "outputId": "112bca27-2c3e-4869-f124-4da128a51649"
      },
      "source": [
        "device = \"cuda:0\" if torch.cuda.is_available() else \"cpu\"\n",
        "# build the model \n",
        "model = BaselineModel(784, 20000, 10).to(device)\n",
        "\n",
        "# define the loss function and the optimiser\n",
        "loss_function = nn.CrossEntropyLoss()\n",
        "optimiser = optim.Adam(model.parameters())\n",
        "\n",
        "num_opoch = 20\n",
        "e_train_plot = np.zeros((num_opoch, 1))\n",
        "e_test_plot = np.zeros((num_opoch, 1))\n",
        "acc_train_plot = np.zeros((num_opoch, 1))\n",
        "acc_test_plot = np.zeros((num_opoch, 1))\n",
        "\n",
        "# the epoch loop\n",
        "for epoch in range(num_opoch):\n",
        "    \n",
        "    # training\n",
        "    model.train()\n",
        "    training_loss = 0.0\n",
        "    correct = 0\n",
        "    total = 0\n",
        "    for data in trainloader:\n",
        "        # get the inputs\n",
        "        inputs, labels = data\n",
        "        inputs, labels = inputs.to(device), labels.to(device)\n",
        "        # zero the parameter gradients\n",
        "        optimiser.zero_grad()\n",
        "\n",
        "        # forward + loss + backward + optimise (update weights)\n",
        "        outputs = model(inputs)\n",
        "        loss = loss_function(outputs, labels)\n",
        "        loss.backward()\n",
        "        optimiser.step()\n",
        "\n",
        "        # keep track of the loss this epoch\n",
        "        training_loss += loss.item()\n",
        "\n",
        "        prediction = torch.argmax(outputs, dim=1)\n",
        "        correct += (prediction == labels).float().sum()\n",
        "        total += labels.shape[0]\n",
        "    \n",
        "    e_train_plot[epoch] = training_loss\n",
        "    acc_train_plot[epoch] = ((100.0 * correct.item()) / total)\n",
        "\n",
        "    # testing\n",
        "    model.eval()\n",
        "    testing_loss = 0.0\n",
        "    correct = 0\n",
        "    total = 0\n",
        "    for data in testloader:\n",
        "        inputs, labels = data\n",
        "        inputs, labels = inputs.to(device), labels.to(device)\n",
        "        outputs = model(inputs)\n",
        "        loss = loss_function(outputs, labels)\n",
        "        testing_loss += loss.item()\n",
        "        prediction = torch.argmax(outputs, dim=1)\n",
        "        correct += (prediction == labels).float().sum()\n",
        "        total += labels.shape[0]\n",
        "    \n",
        "    e_test_plot[epoch] = testing_loss\n",
        "    acc_test_plot[epoch] = ((100.0 * correct.item()) / total)\n",
        "    print(\"Epoch %d\" % epoch)\n",
        "\n",
        "\n",
        "fig, (ax1, ax2) = plt.subplots(1, 2, figsize=(15,5))\n",
        "ax1.plot(e_train_plot, label='train')\n",
        "ax1.plot(e_test_plot, label='test')\n",
        "ax1.set_xlabel(\"Iteration\", fontsize=14)\n",
        "ax1.set_ylabel(\"Error\", fontsize=14)\n",
        "ax1.grid(True)\n",
        "ax1.legend()\n",
        "ax1.set_title(\"Error of MLP with 20000 hidden nodes\",fontsize=16)\n",
        "\n",
        "ax2.plot(acc_train_plot, label='train')\n",
        "ax2.plot(acc_test_plot, label='test')\n",
        "ax2.set_xlabel(\"Iteration\", fontsize=14)\n",
        "ax2.set_ylabel(\"Accuracy\", fontsize=14)\n",
        "ax2.grid(True)\n",
        "ax2.legend()\n",
        "ax2.set_title(\"Accuracy of MLP with 20000 hidden nodes\",fontsize=16)"
      ],
      "execution_count": null,
      "outputs": [
        {
          "output_type": "stream",
          "text": [
            "Epoch 0\n",
            "Epoch 1\n",
            "Epoch 2\n",
            "Epoch 3\n",
            "Epoch 4\n",
            "Epoch 5\n",
            "Epoch 6\n",
            "Epoch 7\n",
            "Epoch 8\n",
            "Epoch 9\n",
            "Epoch 10\n",
            "Epoch 11\n",
            "Epoch 12\n",
            "Epoch 13\n",
            "Epoch 14\n",
            "Epoch 15\n",
            "Epoch 16\n",
            "Epoch 17\n",
            "Epoch 18\n",
            "Epoch 19\n"
          ],
          "name": "stdout"
        },
        {
          "output_type": "execute_result",
          "data": {
            "text/plain": [
              "Text(0.5, 1.0, 'Accuracy of MLP with 20000 hidden nodes')"
            ]
          },
          "metadata": {
            "tags": []
          },
          "execution_count": 28
        },
        {
          "output_type": "display_data",
          "data": {
            "image/png": "[encoded data removed]",
            "text/plain": [
              "<Figure size 1080x360 with 2 Axes>"
            ]
          },
          "metadata": {
            "tags": []
          }
        },
        {
          "output_type": "stream",
          "text": [
            "time: 3min 7s\n"
          ],
          "name": "stdout"
        }
      ]
    },
    {
      "cell_type": "markdown",
      "metadata": {
        "id": "E_GoaCknnHWc",
        "colab_type": "text"
      },
      "source": [
        "##Wide MLPs on MNIST##"
      ]
    },
    {
      "cell_type": "markdown",
      "metadata": {
        "id": "1dRwgXvuqIhR",
        "colab_type": "text"
      },
      "source": [
        "**How wide does the network need to be (how many hidden\n",
        "units) before it overfits on the MNIST training dataset?\n",
        "Provide rational.**"
      ]
    },
    {
      "cell_type": "markdown",
      "metadata": {
        "id": "dMnkKBrIqLgW",
        "colab_type": "text"
      },
      "source": [
        "We observe that there is significance difference between Train and Test Loss and Hence there is High probability that we might have overfit.\n",
        "The loss of test set doesn't goes down along with training loss.\n",
        "A rule of thumb definition is that over fitting occurs when your train accuracy keeps improving while your validation accuracy stops improving (or even starts getting worse).\n",
        "The main issue is that these very wide, shallow networks are very good at memorization, but not so good at generalization."
      ]
    },
    {
      "cell_type": "markdown",
      "metadata": {
        "id": "Ll31EldgqNjg",
        "colab_type": "text"
      },
      "source": [
        " **Why they might be so?**"
      ]
    },
    {
      "cell_type": "markdown",
      "metadata": {
        "id": "vSztvnMVqtDF",
        "colab_type": "text"
      },
      "source": [
        "if you train the network with every possible input value, a super wide network could eventually memorize the corresponding output value that you want.\n",
        "\n",
        "https://datascience.stackexchange.com/questions/19874/why-doesnt-overfitting-devastate-neural-networks-for-mnist-classification"
      ]
    },
    {
      "cell_type": "markdown",
      "metadata": {
        "id": "J9yo3qOG0E5m",
        "colab_type": "text"
      },
      "source": [
        "A neural network with a hidden layer has universality: given enough hidden units, it can approximate any function. This is a frequently quoted – and even more frequently, misunderstood and applied – theorem.\n",
        "\n",
        "It’s true, essentially, because the hidden layer can be used as a lookup table."
      ]
    }
  ]
}