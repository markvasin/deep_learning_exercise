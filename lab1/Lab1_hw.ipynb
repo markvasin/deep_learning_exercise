{
  "nbformat": 4,
  "nbformat_minor": 0,
  "metadata": {
    "colab": {
      "name": "Lab1.ipynb",
      "provenance": [],
      "collapsed_sections": [],
      "authorship_tag": "ABX9TyMNGgPlQNtoR5NlAM3G7PqX",
      "include_colab_link": true
    },
    "kernelspec": {
      "name": "python3",
      "display_name": "Python 3"
    }
  },
  "cells": [
    {
      "cell_type": "markdown",
      "metadata": {
        "id": "view-in-github",
        "colab_type": "text"
      },
      "source": [
        "<a href=\"https://colab.research.google.com/github/markvasin/deep_learning_exercise/blob/master/lab1/Lab1_hw.ipynb\" target=\"_parent\"><img src=\"https://colab.research.google.com/assets/colab-badge.svg\" alt=\"Open In Colab\"/></a>"
      ]
    },
    {
      "cell_type": "code",
      "metadata": {
        "id": "wDSPS_LA-kMX",
        "colab_type": "code",
        "colab": {}
      },
      "source": [
        "import torch"
      ],
      "execution_count": null,
      "outputs": []
    },
    {
      "cell_type": "code",
      "metadata": {
        "id": "Nsegx4zxEu0x",
        "colab_type": "code",
        "colab": {}
      },
      "source": [
        "def sgd_factorise(A: torch.Tensor, rank: int, num_epochs=1000, lr=0.01):\n",
        "  row, col = A.shape\n",
        "  U = torch.rand(row, rank)\n",
        "  V = torch.rand(col, rank)\n",
        "  for epoch in range(0, num_epochs):\n",
        "    for r in range(0, row):\n",
        "      for c in range(0, col):\n",
        "        e = A[r,c] - U[r,:] @ V[c,:].T\n",
        "        U[r,:] = U[r,:] + (lr*e*V[c,:])\n",
        "        V[c,:] = V[c,:] + (lr*e*U[r,:])\n",
        "  return U,V\n"
      ],
      "execution_count": null,
      "outputs": []
    },
    {
      "cell_type": "code",
      "metadata": {
        "id": "LNPPYS90IgF6",
        "colab_type": "code",
        "colab": {
          "base_uri": "https://localhost:8080/",
          "height": 255
        },
        "outputId": "cec31cc9-62a8-4bb8-88cb-1f5a8aba2624"
      },
      "source": [
        "A = torch.tensor([[0.3374, 0.6005, 0.1735], [3.3359, 0.0492, 1.8374], [2.9407, 0.5301, 2.2620]])\n",
        "print(A)\n",
        "U,V = sgd_factorise(A, 2, num_epochs=1000)\n",
        "print(U)\n",
        "print(V)\n",
        "print(U @ V.T)\n",
        "loss = torch.nn.functional.mse_loss(U@V.T, A, reduction='sum')\n",
        "print(loss)\n",
        "print('The reconstruction loss is', loss.item())"
      ],
      "execution_count": null,
      "outputs": [
        {
          "output_type": "stream",
          "text": [
            "tensor([[0.3374, 0.6005, 0.1735],\n",
            "        [3.3359, 0.0492, 1.8374],\n",
            "        [2.9407, 0.5301, 2.2620]])\n",
            "tensor([[-0.3199,  0.4377],\n",
            "        [ 1.4785,  0.8221],\n",
            "        [ 0.8738,  1.2249]])\n",
            "tensor([[ 1.3669,  1.5015],\n",
            "        [-0.4669,  0.8243],\n",
            "        [ 0.6178,  1.2829]])\n",
            "tensor([[ 0.2200,  0.5101,  0.3639],\n",
            "        [ 3.2554, -0.0127,  1.9681],\n",
            "        [ 3.0336,  0.6017,  2.1113]])\n",
            "tensor(0.1221)\n",
            "The reconstruction loss is 0.12208190560340881\n"
          ],
          "name": "stdout"
        }
      ]
    },
    {
      "cell_type": "code",
      "metadata": {
        "id": "OiH3QysjPPDh",
        "colab_type": "code",
        "colab": {
          "base_uri": "https://localhost:8080/",
          "height": 170
        },
        "outputId": "dae1fd21-f0af-4440-eb1c-19e9c5a35eec"
      },
      "source": [
        "print(A)\n",
        "U,S,V = torch.svd(A)\n",
        "print(S)\n",
        "S[-1] = 0\n",
        "print(S)\n",
        "# print(U)\n",
        "# print(V)\n",
        "print(U@torch.diag(S)@V.T)\n",
        "loss = torch.nn.functional.mse_loss(U@torch.diag(S)@V.T, A, reduction='sum')\n",
        "print(loss.item())"
      ],
      "execution_count": null,
      "outputs": [
        {
          "output_type": "stream",
          "text": [
            "tensor([[0.3374, 0.6005, 0.1735],\n",
            "        [3.3359, 0.0492, 1.8374],\n",
            "        [2.9407, 0.5301, 2.2620]])\n",
            "tensor([5.3339, 0.6959, 0.3492])\n",
            "tensor([5.3339, 0.6959, 0.0000])\n",
            "tensor([[ 0.2245,  0.5212,  0.3592],\n",
            "        [ 3.2530, -0.0090,  1.9737],\n",
            "        [ 3.0378,  0.5983,  2.1023]])\n",
            "0.12191088497638702\n"
          ],
          "name": "stdout"
        }
      ]
    },
    {
      "cell_type": "code",
      "metadata": {
        "id": "XJ1GkvbkXfh0",
        "colab_type": "code",
        "colab": {}
      },
      "source": [
        "def sgd_factorise_masked(A: torch.Tensor, M: torch.Tensor, rank: int, num_epochs=1000, lr=0.01):\n",
        "  row, col = A.shape\n",
        "  U = torch.rand(row, rank)\n",
        "  V = torch.rand(col, rank)\n",
        "  for epoch in range(0, num_epochs):\n",
        "    for r in range(0, row):\n",
        "      for c in range(0, col):\n",
        "        if M[r,c] == 1:\n",
        "          e = A[r,c] - U[r,:] @ V[c,:].T\n",
        "          U[r,:] = U[r,:] + (lr*e*V[c,:])\n",
        "          V[c,:] = V[c,:] + (lr*e*U[r,:])\n",
        "  return U,V"
      ],
      "execution_count": null,
      "outputs": []
    },
    {
      "cell_type": "code",
      "metadata": {
        "id": "XS6XtmzLclw5",
        "colab_type": "code",
        "colab": {
          "base_uri": "https://localhost:8080/",
          "height": 255
        },
        "outputId": "9adc949e-316d-473c-d317-9de86ede00e3"
      },
      "source": [
        "M = torch.tensor([[1, 1, 1], [0, 1, 1], [1, 0, 1]])\n",
        "U, V = sgd_factorise_masked(A, M, 2)\n",
        "print(A)\n",
        "print(U)\n",
        "print(V)\n",
        "loss = torch.nn.functional.mse_loss(U@V.T, A, reduction='sum')\n",
        "print(loss)\n",
        "print('Reconstructed matrix')\n",
        "print(U @ V.T)"
      ],
      "execution_count": null,
      "outputs": [
        {
          "output_type": "stream",
          "text": [
            "tensor([[0.3374, 0.6005, 0.1735],\n",
            "        [3.3359, 0.0492, 1.8374],\n",
            "        [2.9407, 0.5301, 2.2620]])\n",
            "tensor([[ 0.5975, -0.4014],\n",
            "        [ 0.9416,  1.1373],\n",
            "        [ 1.2984,  1.2587]])\n",
            "tensor([[ 1.2583,  1.0385],\n",
            "        [ 0.6649, -0.5072],\n",
            "        [ 0.8875,  0.8811]])\n",
            "tensor(1.0341)\n",
            "Reconstructed matrix\n",
            "tensor([[0.3349, 0.6008, 0.1766],\n",
            "        [2.3659, 0.0492, 1.8378],\n",
            "        [2.9410, 0.2248, 2.2615]])\n"
          ],
          "name": "stdout"
        }
      ]
    }
  ]
}