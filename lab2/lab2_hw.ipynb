{
  "nbformat": 4,
  "nbformat_minor": 0,
  "metadata": {
    "colab": {
      "name": "lab2.ipynb",
      "provenance": [],
      "collapsed_sections": [],
      "authorship_tag": "ABX9TyOZiehMxzncw/92ZtUYPHnx",
      "include_colab_link": true
    },
    "kernelspec": {
      "name": "python3",
      "display_name": "Python 3"
    }
  },
  "cells": [
    {
      "cell_type": "markdown",
      "metadata": {
        "id": "view-in-github",
        "colab_type": "text"
      },
      "source": [
        "<a href=\"https://colab.research.google.com/github/markvasin/deep_learning_exercise/blob/master/lab2/lab2_hw.ipynb\" target=\"_parent\"><img src=\"https://colab.research.google.com/assets/colab-badge.svg\" alt=\"Open In Colab\"/></a>"
      ]
    },
    {
      "cell_type": "code",
      "metadata": {
        "id": "8K9PXkh9Ih3D",
        "colab_type": "code",
        "colab": {}
      },
      "source": [
        "import torch\n",
        "from typing import Tuple"
      ],
      "execution_count": null,
      "outputs": []
    },
    {
      "cell_type": "code",
      "metadata": {
        "id": "Fz7VPmMmaiqP",
        "colab_type": "code",
        "colab": {}
      },
      "source": [
        "def sgd_factorise_ad(A: torch.Tensor, rank: int, num_epochs=1000, lr=0.01):\n",
        "  row, col = A.shape\n",
        "  U = torch.rand(row, rank, requires_grad=True)\n",
        "  V = torch.rand(col, rank, requires_grad=True)\n",
        "  for epoch in range(0, num_epochs):\n",
        "    J = torch.nn.functional.mse_loss(U@V.T, A, reduction='sum')\n",
        "    J.backward()\n",
        "    with torch.no_grad():\n",
        "      U -= lr * U.grad\n",
        "      V -= lr * V.grad\n",
        "      U.grad.zero_()\n",
        "      V.grad.zero_()    \n",
        "  return U, V"
      ],
      "execution_count": null,
      "outputs": []
    },
    {
      "cell_type": "code",
      "metadata": {
        "id": "6m2OG7gOcuEm",
        "colab_type": "code",
        "colab": {
          "base_uri": "https://localhost:8080/",
          "height": 238
        },
        "outputId": "ef8a85cc-10fd-4dc1-d43f-3f4f029b3ae9"
      },
      "source": [
        "A = torch.tensor([[0.3374, 0.6005, 0.1735], [3.3359, 0.0492, 1.8374], [2.9407, 0.5301, 2.2620]])\n",
        "print(A)\n",
        "U,V = sgd_factorise_ad(A, 2, num_epochs=1000)\n",
        "print(U)\n",
        "print(V)\n",
        "print(U @ V.T)\n",
        "loss = torch.nn.functional.mse_loss(U@V.T, A, reduction='sum')\n",
        "print(loss)"
      ],
      "execution_count": null,
      "outputs": [
        {
          "output_type": "stream",
          "text": [
            "tensor([[0.3374, 0.6005, 0.1735],\n",
            "        [3.3359, 0.0492, 1.8374],\n",
            "        [2.9407, 0.5301, 2.2620]])\n",
            "tensor([[-0.2286,  0.6381],\n",
            "        [ 1.5551,  0.4164],\n",
            "        [ 1.0623,  1.0964]], requires_grad=True)\n",
            "tensor([[ 1.8227,  1.0049],\n",
            "        [-0.2049,  0.7440],\n",
            "        [ 1.0208,  0.9282]], requires_grad=True)\n",
            "tensor([[ 0.2246,  0.5216,  0.3590],\n",
            "        [ 3.2529, -0.0089,  1.9740],\n",
            "        [ 3.0380,  0.5981,  2.1021]], grad_fn=<MmBackward>)\n",
            "tensor(0.1219, grad_fn=<MseLossBackward>)\n"
          ],
          "name": "stdout"
        }
      ]
    },
    {
      "cell_type": "code",
      "metadata": {
        "id": "rDc5lwQYOu6j",
        "colab_type": "code",
        "colab": {}
      },
      "source": [
        "import pandas as pd\n",
        "df = pd.read_csv('https://archive.ics.uci.edu/ml/machine-learning-databases/iris/iris.data', header=None )\n",
        "data = torch.tensor(df.iloc[:, [ 0 , 1 , 2 , 3 ] ].values, dtype=torch.float32)\n",
        "data = data - data.mean(dim=0)"
      ],
      "execution_count": null,
      "outputs": []
    },
    {
      "cell_type": "code",
      "metadata": {
        "id": "y8cJtHLKSVla",
        "colab_type": "code",
        "colab": {
          "base_uri": "https://localhost:8080/",
          "height": 68
        },
        "outputId": "ca263297-a8aa-42b3-bc1a-5b1cb5c4c3e5"
      },
      "source": [
        "U_hat,V_hat = sgd_factorise_ad(data, 2)\n",
        "# print(U)\n",
        "# print(V)\n",
        "# print(U @ V.T)\n",
        "print(U_hat.shape)\n",
        "print(V_hat.shape)\n",
        "loss = torch.nn.functional.mse_loss(U_hat@V_hat.T, data, reduction='sum')\n",
        "print(loss.item())"
      ],
      "execution_count": null,
      "outputs": [
        {
          "output_type": "stream",
          "text": [
            "torch.Size([150, 2])\n",
            "torch.Size([4, 2])\n",
            "15.230057716369629\n"
          ],
          "name": "stdout"
        }
      ]
    },
    {
      "cell_type": "code",
      "metadata": {
        "id": "c_4YcWUwTwiO",
        "colab_type": "code",
        "colab": {
          "base_uri": "https://localhost:8080/",
          "height": 68
        },
        "outputId": "dabf1d80-ab33-4127-8eab-787b15a380f2"
      },
      "source": [
        "# Truncated SVD\n",
        "U,S,V = torch.svd(data)\n",
        "print(S)\n",
        "S[-2:] = 0\n",
        "print(S)\n",
        "# print(U)\n",
        "# print(V)\n",
        "# print(U@torch.diag(S)@V.T)\n",
        "loss = torch.nn.functional.mse_loss(U@torch.diag(S)@V.T, data, reduction='sum')\n",
        "print(loss.item())"
      ],
      "execution_count": null,
      "outputs": [
        {
          "output_type": "stream",
          "text": [
            "tensor([25.0899,  6.0079,  3.4205,  1.8785])\n",
            "tensor([25.0899,  6.0079,  0.0000,  0.0000])\n",
            "15.22883129119873\n"
          ],
          "name": "stdout"
        }
      ]
    },
    {
      "cell_type": "code",
      "metadata": {
        "id": "wMYkS4-yUjfh",
        "colab_type": "code",
        "colab": {
          "base_uri": "https://localhost:8080/",
          "height": 513
        },
        "outputId": "93d56414-0855-4fcd-e7e5-99978cd7c6ec"
      },
      "source": [
        "import matplotlib.pyplot as plt\n",
        "\n",
        "X_1 = U[:,0:2]\n",
        "X_2 = U_hat.detach().numpy()\n",
        "\n",
        "plt.scatter(X_1[:,0], X_1[:,1])\n",
        "plt.show()\n",
        "\n",
        "plt.scatter(X_2[:,0], X_2[:,1])\n",
        "plt.show()"
      ],
      "execution_count": null,
      "outputs": [
        {
          "output_type": "display_data",
          "data": {
            "image/png": "[encoded data removed]",
            "text/plain": [
              "<Figure size 432x288 with 1 Axes>"
            ]
          },
          "metadata": {
            "tags": [],
            "needs_background": "light"
          }
        },
        {
          "output_type": "display_data",
          "data": {
            "image/png": "[encoded data removed]",
            "text/plain": [
              "<Figure size 432x288 with 1 Axes>"
            ]
          },
          "metadata": {
            "tags": [],
            "needs_background": "light"
          }
        }
      ]
    },
    {
      "cell_type": "code",
      "metadata": {
        "id": "qAeWhYBUlVnv",
        "colab_type": "code",
        "colab": {
          "base_uri": "https://localhost:8080/",
          "height": 68
        },
        "outputId": "1c65a9a3-8127-44f9-aa6b-23a64706a0b0"
      },
      "source": [
        "df = pd.read_csv('https://archive.ics.uci.edu/ml/machine-learning-databases/iris/iris.data', header=None )\n",
        "df = df.sample(frac=1) #shuffle\n",
        "\n",
        "# add label indices column\n",
        "mapping = {k: v for v, k in enumerate(df[4].unique())}\n",
        "df[5] = df[4].map(mapping)\n",
        "\n",
        "# normalise data\n",
        "alldata = torch.tensor(df.iloc[:, [0,1,2,3]].values, dtype=torch.float)\n",
        "alldata = (alldata - alldata.mean(dim=0)) / alldata.var(dim=0)\n",
        "                                                        \n",
        "# create datasets\n",
        "targets_tr = torch.tensor(df.iloc[:100, 5].values, dtype=torch.long)\n",
        "targets_va = torch.tensor(df.iloc[100:, 5].values, dtype=torch.long)\n",
        "data_tr = alldata[:100]\n",
        "data_va = alldata[100:]"
      ],
      "execution_count": null,
      "outputs": [
        {
          "output_type": "stream",
          "text": [
            "tensor([1, 1, 0, 1, 2, 2, 1, 1, 2, 1, 0, 1, 0, 2, 0, 1, 1, 2, 2, 0, 1, 1, 1, 1,\n",
            "        2, 2, 0, 2, 0, 2, 2, 0, 1, 0, 2, 0, 0, 0, 1, 2, 0, 1, 0, 0, 0, 0, 1, 1,\n",
            "        1, 1])\n"
          ],
          "name": "stdout"
        }
      ]
    },
    {
      "cell_type": "code",
      "metadata": {
        "id": "VLFThModCVR3",
        "colab_type": "code",
        "colab": {
          "base_uri": "https://localhost:8080/",
          "height": 51
        },
        "outputId": "3705733c-2abe-493c-e153-cafa5abbbe71"
      },
      "source": [
        "num_epochs = 10000\n",
        "lr = 0.01\n",
        "W1 = torch.randn(4, 12, requires_grad=True)\n",
        "W2 = torch.randn(12, 3, requires_grad=True)\n",
        "b1 = torch.tensor([0], requires_grad=True, dtype=torch.float)\n",
        "b2 = torch.tensor([0], requires_grad=True, dtype=torch.float)\n",
        "\n",
        "for epoch in range(0, num_epochs):\n",
        "  logits = torch.relu(data_tr @ W1 + b1) @ W2 + b2\n",
        "  J = torch.nn.functional.cross_entropy(logits, targets_tr)\n",
        "  J.backward()\n",
        "  with torch.no_grad():\n",
        "    W1 -= lr * W1.grad\n",
        "    W2 -= lr * W2.grad\n",
        "    b1 -= lr * b1.grad\n",
        "    b2 -= lr * b2.grad\n",
        "\n",
        "    W1.grad.zero_()\n",
        "    W2.grad.zero_()\n",
        "    b1.grad.zero_()\n",
        "    b2.grad.zero_()\n",
        "\n",
        "\n",
        "train_logits = torch.relu(data_tr @ W1 + b1) @ W2 + b2\n",
        "train_preds = torch.argmax(train_logits, dim=1)\n",
        "print('Training accuracy:', (train_preds == targets_tr).float().mean().item())\n",
        "\n",
        "validation_logits = torch.relu(data_va @ W1 + b1) @ W2 + b2\n",
        "validation_preds = torch.argmax(validation_logits, dim=1)\n",
        "print('Validation accuracy:', (validation_preds == targets_va).float().mean().item())"
      ],
      "execution_count": null,
      "outputs": [
        {
          "output_type": "stream",
          "text": [
            "Training accuracy: 0.9399999976158142\n",
            "Validation accuracy: 0.9800000190734863\n"
          ],
          "name": "stdout"
        }
      ]
    }
  ]
}