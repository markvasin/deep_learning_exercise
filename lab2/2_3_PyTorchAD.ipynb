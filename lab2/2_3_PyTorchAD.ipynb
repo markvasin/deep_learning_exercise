{
  "nbformat": 4,
  "nbformat_minor": 0,
  "metadata": {
    "kernelspec": {
      "display_name": "Python 3",
      "language": "python",
      "name": "python3"
    },
    "language_info": {
      "codemirror_mode": {
        "name": "ipython",
        "version": 3
      },
      "file_extension": ".py",
      "mimetype": "text/x-python",
      "name": "python",
      "nbconvert_exporter": "python",
      "pygments_lexer": "ipython3",
      "version": "3.6.7"
    },
    "colab": {
      "name": "2_3_PyTorchAD.ipynb",
      "provenance": [],
      "collapsed_sections": [],
      "include_colab_link": true
    }
  },
  "cells": [
    {
      "cell_type": "markdown",
      "metadata": {
        "id": "view-in-github",
        "colab_type": "text"
      },
      "source": [
        "<a href=\"https://colab.research.google.com/github/markvasin/deep_learning_exercise/blob/master/lab2/2_3_PyTorchAD.ipynb\" target=\"_parent\"><img src=\"https://colab.research.google.com/assets/colab-badge.svg\" alt=\"Open In Colab\"/></a>"
      ]
    },
    {
      "cell_type": "markdown",
      "metadata": {
        "deletable": false,
        "editable": false,
        "nbgrader": {
          "checksum": "97d3c80864403311b3342877098cef5b",
          "grade": false,
          "grade_id": "cell-f38ec230aeb63f9d",
          "locked": true,
          "schema_version": 1,
          "solution": false
        },
        "id": "GMdNG-DzYb2v",
        "colab_type": "text"
      },
      "source": [
        "# Part 3: Reverse Mode Automatic Differentiation with PyTorch"
      ]
    },
    {
      "cell_type": "code",
      "metadata": {
        "deletable": false,
        "editable": false,
        "nbgrader": {
          "checksum": "529f94d77025a0b9b2a4aa44ed0b1f1b",
          "grade": false,
          "grade_id": "cell-2afa7eb0f5479ff9",
          "locked": true,
          "schema_version": 1,
          "solution": false
        },
        "id": "g25jXL6MYb2x",
        "colab_type": "code",
        "colab": {}
      },
      "source": [
        "# Execute this code block to install dependencies when running on colab\n",
        "try:\n",
        "    import torch\n",
        "except:\n",
        "    from os.path import exists\n",
        "    from wheel.pep425tags import get_abbr_impl, get_impl_ver, get_abi_tag\n",
        "    platform = '{}{}-{}'.format(get_abbr_impl(), get_impl_ver(), get_abi_tag())\n",
        "    cuda_output = !ldconfig -p|grep cudart.so|sed -e 's/.*\\.\\([0-9]*\\)\\.\\([0-9]*\\)$/cu\\1\\2/'\n",
        "    accelerator = cuda_output[0] if exists('/dev/nvidia0') else 'cpu'\n",
        "\n",
        "    !pip install -q http://download.pytorch.org/whl/{accelerator}/torch-1.0.0-{platform}-linux_x86_64.whl torchvision"
      ],
      "execution_count": null,
      "outputs": []
    },
    {
      "cell_type": "markdown",
      "metadata": {
        "deletable": false,
        "editable": false,
        "nbgrader": {
          "checksum": "8c13a801a6e49369b91bda4e906cb1cf",
          "grade": false,
          "grade_id": "cell-3d5d3b3ff9e2ac9f",
          "locked": true,
          "schema_version": 1,
          "solution": false
        },
        "id": "dXsuzcHPYb21",
        "colab_type": "text"
      },
      "source": [
        "PyTorch implements Dynamic Reverse Mode Automatic Differentiation, much like we did in the previous exercise. There is one really major difference in what PyTorch provides over our simple example: it works directly with matrices (`Tensor`s) rather than with scalars (although obviously a matrix can represent a scalar).\n",
        "\n",
        "In this tutorial, we'll explore PyTorch's AD implementation. Note that we're using the API of PyTorch 0.4 or later which simplifies use of AD (previous versions required wrapping all `Tensor`s that you wanted to compute gradients of in `Variable` objects; PyTorch 0.4 removes the need to do this and allows `Tensor`s themselves to track gradients).\n",
        "\n",
        "We'll start with the simple example we tried earlier in the code block below:\n",
        "\n",
        "__Task:__ Run the following code and verify the solution is correct"
      ]
    },
    {
      "cell_type": "code",
      "metadata": {
        "deletable": false,
        "editable": false,
        "nbgrader": {
          "checksum": "0d5aa67ad79542449beb79e8b65a50bc",
          "grade": false,
          "grade_id": "cell-a7740c83bfcaa983",
          "locked": true,
          "schema_version": 1,
          "solution": false
        },
        "id": "Hx9Y9xW7Yb22",
        "colab_type": "code",
        "colab": {
          "base_uri": "https://localhost:8080/",
          "height": 68
        },
        "outputId": "f1b3ef3c-bdbe-48d7-ae64-ef4e9126e754"
      },
      "source": [
        "import torch\n",
        "\n",
        "# set up the problem\n",
        "x = torch.tensor(0.5, requires_grad=True)\n",
        "y = torch.tensor(4.2, requires_grad=True)\n",
        "z = x * y + torch.sin(x)\n",
        "\n",
        "print(\"z = \" + str(z.item()))\n",
        "\n",
        "z.backward() # this goes through the computation graph and accumulates the gradients in the cached .grad attributes\n",
        "print(\"dz/dx = \" + str(x.grad.item()))\n",
        "print(\"dz/dy = \" + str(y.grad.item()))"
      ],
      "execution_count": null,
      "outputs": [
        {
          "output_type": "stream",
          "text": [
            "z = 2.57942533493042\n",
            "dz/dx = 5.077582359313965\n",
            "dz/dy = 0.5\n"
          ],
          "name": "stdout"
        }
      ]
    },
    {
      "cell_type": "markdown",
      "metadata": {
        "deletable": false,
        "editable": false,
        "nbgrader": {
          "checksum": "aac08494fe446009596079eba3016ddf",
          "grade": false,
          "grade_id": "cell-cb3a2586467dd0ad",
          "locked": true,
          "schema_version": 1,
          "solution": false
        },
        "id": "ISuPx_GTYb25",
        "colab_type": "text"
      },
      "source": [
        "As with our own AD implementation, PyTorch lets us differentiate through an algorithm.\n",
        "\n",
        "__Task__: Use the block below to compute the gradient $\\partial z/\\partial x$ of the following pseudocode algorithm and store the result in the `dzdx` variable:\n",
        "\n",
        "    x = 0.5\n",
        "    z = 1\n",
        "    i = 0\n",
        "    while i<2:\n",
        "        z = (z + i) * x * x\n",
        "        i = i + 1"
      ]
    },
    {
      "cell_type": "code",
      "metadata": {
        "deletable": false,
        "nbgrader": {
          "checksum": "b689f4aaf1507a7f532c6059896ad02e",
          "grade": false,
          "grade_id": "cell-62e1f0838236eddf",
          "locked": false,
          "schema_version": 1,
          "solution": true
        },
        "id": "lQNBLkgVYb26",
        "colab_type": "code",
        "colab": {
          "base_uri": "https://localhost:8080/",
          "height": 34
        },
        "outputId": "33c69c64-f748-4f18-c2df-8b53d09c4b97"
      },
      "source": [
        "x = torch.tensor(0.5, requires_grad=True)\n",
        "z = torch.tensor(1.0, requires_grad=True)\n",
        "for i in range(0,2):\n",
        "    z = (z + torch.tensor(i, dtype=float, requires_grad=True)) * x * x\n",
        "\n",
        "z.backward()\n",
        "dzdx = x.grad.item()\n",
        "print(dzdx)"
      ],
      "execution_count": null,
      "outputs": [
        {
          "output_type": "stream",
          "text": [
            "1.5\n"
          ],
          "name": "stdout"
        }
      ]
    },
    {
      "cell_type": "code",
      "metadata": {
        "deletable": false,
        "editable": false,
        "nbgrader": {
          "checksum": "bc79555ad292cd1026a9db951f9f8e47",
          "grade": true,
          "grade_id": "cell-cbe71552690f710b",
          "locked": true,
          "points": 4,
          "schema_version": 1,
          "solution": false
        },
        "id": "z7zA8lwAYb29",
        "colab_type": "code",
        "colab": {}
      },
      "source": [
        "assert dzdx == 1.5\n"
      ],
      "execution_count": null,
      "outputs": []
    },
    {
      "cell_type": "markdown",
      "metadata": {
        "deletable": false,
        "editable": false,
        "nbgrader": {
          "checksum": "d999d1c4c84b066fb15be1972dcaaad8",
          "grade": false,
          "grade_id": "cell-824ecf46b4875b5f",
          "locked": true,
          "schema_version": 1,
          "solution": false
        },
        "id": "Ho3yEK1gYb2_",
        "colab_type": "text"
      },
      "source": [
        "## PyTorch limitations: in-place operations and aliasing\n",
        "\n",
        "PyTorch will throw an error at runtime if you try to differentiate through an in-place operation on a tensor. \n",
        "\n",
        "__Task__: Run the following code to see this in action."
      ]
    },
    {
      "cell_type": "code",
      "metadata": {
        "deletable": false,
        "editable": false,
        "nbgrader": {
          "checksum": "eb07b791962399cd736ede26b99309e8",
          "grade": false,
          "grade_id": "cell-813341e9825354bf",
          "locked": true,
          "schema_version": 1,
          "solution": false
        },
        "id": "oxoe11fSYb3A",
        "colab_type": "code",
        "colab": {
          "base_uri": "https://localhost:8080/",
          "height": 361
        },
        "outputId": "5dfe7846-e845-4787-a8d2-8237481eb11d"
      },
      "source": [
        "x = torch.tensor(1.0, requires_grad=True)\n",
        "y = x.tanh()\n",
        "y.add_(3) # inplace addition\n",
        "y.backward()"
      ],
      "execution_count": null,
      "outputs": [
        {
          "output_type": "error",
          "ename": "RuntimeError",
          "evalue": "ignored",
          "traceback": [
            "\u001b[0;31m---------------------------------------------------------------------------\u001b[0m",
            "\u001b[0;31mRuntimeError\u001b[0m                              Traceback (most recent call last)",
            "\u001b[0;32m<ipython-input-15-637e22e4c834>\u001b[0m in \u001b[0;36m<module>\u001b[0;34m()\u001b[0m\n\u001b[1;32m      2\u001b[0m \u001b[0my\u001b[0m \u001b[0;34m=\u001b[0m \u001b[0mx\u001b[0m\u001b[0;34m.\u001b[0m\u001b[0mtanh\u001b[0m\u001b[0;34m(\u001b[0m\u001b[0;34m)\u001b[0m\u001b[0;34m\u001b[0m\u001b[0;34m\u001b[0m\u001b[0m\n\u001b[1;32m      3\u001b[0m \u001b[0my\u001b[0m\u001b[0;34m.\u001b[0m\u001b[0madd_\u001b[0m\u001b[0;34m(\u001b[0m\u001b[0;36m3\u001b[0m\u001b[0;34m)\u001b[0m \u001b[0;31m# inplace addition\u001b[0m\u001b[0;34m\u001b[0m\u001b[0;34m\u001b[0m\u001b[0m\n\u001b[0;32m----> 4\u001b[0;31m \u001b[0my\u001b[0m\u001b[0;34m.\u001b[0m\u001b[0mbackward\u001b[0m\u001b[0;34m(\u001b[0m\u001b[0;34m)\u001b[0m\u001b[0;34m\u001b[0m\u001b[0;34m\u001b[0m\u001b[0m\n\u001b[0m",
            "\u001b[0;32m/usr/local/lib/python3.6/dist-packages/torch/tensor.py\u001b[0m in \u001b[0;36mbackward\u001b[0;34m(self, gradient, retain_graph, create_graph)\u001b[0m\n\u001b[1;32m    193\u001b[0m                 \u001b[0mproducts\u001b[0m\u001b[0;34m.\u001b[0m \u001b[0mDefaults\u001b[0m \u001b[0mto\u001b[0m\u001b[0;31m \u001b[0m\u001b[0;31m`\u001b[0m\u001b[0;31m`\u001b[0m\u001b[0;32mFalse\u001b[0m\u001b[0;31m`\u001b[0m\u001b[0;31m`\u001b[0m\u001b[0;34m.\u001b[0m\u001b[0;34m\u001b[0m\u001b[0;34m\u001b[0m\u001b[0m\n\u001b[1;32m    194\u001b[0m         \"\"\"\n\u001b[0;32m--> 195\u001b[0;31m         \u001b[0mtorch\u001b[0m\u001b[0;34m.\u001b[0m\u001b[0mautograd\u001b[0m\u001b[0;34m.\u001b[0m\u001b[0mbackward\u001b[0m\u001b[0;34m(\u001b[0m\u001b[0mself\u001b[0m\u001b[0;34m,\u001b[0m \u001b[0mgradient\u001b[0m\u001b[0;34m,\u001b[0m \u001b[0mretain_graph\u001b[0m\u001b[0;34m,\u001b[0m \u001b[0mcreate_graph\u001b[0m\u001b[0;34m)\u001b[0m\u001b[0;34m\u001b[0m\u001b[0;34m\u001b[0m\u001b[0m\n\u001b[0m\u001b[1;32m    196\u001b[0m \u001b[0;34m\u001b[0m\u001b[0m\n\u001b[1;32m    197\u001b[0m     \u001b[0;32mdef\u001b[0m \u001b[0mregister_hook\u001b[0m\u001b[0;34m(\u001b[0m\u001b[0mself\u001b[0m\u001b[0;34m,\u001b[0m \u001b[0mhook\u001b[0m\u001b[0;34m)\u001b[0m\u001b[0;34m:\u001b[0m\u001b[0;34m\u001b[0m\u001b[0;34m\u001b[0m\u001b[0m\n",
            "\u001b[0;32m/usr/local/lib/python3.6/dist-packages/torch/autograd/__init__.py\u001b[0m in \u001b[0;36mbackward\u001b[0;34m(tensors, grad_tensors, retain_graph, create_graph, grad_variables)\u001b[0m\n\u001b[1;32m     97\u001b[0m     Variable._execution_engine.run_backward(\n\u001b[1;32m     98\u001b[0m         \u001b[0mtensors\u001b[0m\u001b[0;34m,\u001b[0m \u001b[0mgrad_tensors\u001b[0m\u001b[0;34m,\u001b[0m \u001b[0mretain_graph\u001b[0m\u001b[0;34m,\u001b[0m \u001b[0mcreate_graph\u001b[0m\u001b[0;34m,\u001b[0m\u001b[0;34m\u001b[0m\u001b[0;34m\u001b[0m\u001b[0m\n\u001b[0;32m---> 99\u001b[0;31m         allow_unreachable=True)  # allow_unreachable flag\n\u001b[0m\u001b[1;32m    100\u001b[0m \u001b[0;34m\u001b[0m\u001b[0m\n\u001b[1;32m    101\u001b[0m \u001b[0;34m\u001b[0m\u001b[0m\n",
            "\u001b[0;31mRuntimeError\u001b[0m: one of the variables needed for gradient computation has been modified by an inplace operation: [torch.FloatTensor []], which is output 0 of TanhBackward, is at version 1; expected version 0 instead. Hint: enable anomaly detection to find the operation that failed to compute its gradient, with torch.autograd.set_detect_anomaly(True)."
          ]
        }
      ]
    },
    {
      "cell_type": "markdown",
      "metadata": {
        "deletable": false,
        "editable": false,
        "nbgrader": {
          "checksum": "bfd84ec33f62c537a0ea6ea4f87291de",
          "grade": false,
          "grade_id": "cell-b9986c88256e8468",
          "locked": true,
          "schema_version": 1,
          "solution": false
        },
        "id": "CKYPY8pnYb3D",
        "colab_type": "text"
      },
      "source": [
        "Aliasing is also something that can't be differentiated through and will result in a slightly more cryptic error.\n",
        "\n",
        "__Task__: Run the following code to see this in action. If you don't understand what this code does add some `print` statements to show the values of `x` and `y` at various points."
      ]
    },
    {
      "cell_type": "code",
      "metadata": {
        "id": "aWgnIxobYb3E",
        "colab_type": "code",
        "colab": {}
      },
      "source": [
        "x = torch.tensor([1, 2, 3, 4], requires_grad=True, dtype=torch.float)\n",
        "y = x[:1]\n",
        "y.add_(3)\n",
        "y.backward()"
      ],
      "execution_count": null,
      "outputs": []
    },
    {
      "cell_type": "markdown",
      "metadata": {
        "deletable": false,
        "editable": false,
        "nbgrader": {
          "checksum": "4e749620afa15537eddb1f61565c927e",
          "grade": false,
          "grade_id": "cell-76e1b1d7cbc02388",
          "locked": true,
          "schema_version": 1,
          "solution": false
        },
        "id": "1cbe3tppYb3H",
        "colab_type": "text"
      },
      "source": [
        "## Dealing with multiple outputs\n",
        "\n",
        "PyTorch can deal with the case where there are multiple output variables if we can formulate the expression in terms of tensor operations. Consider the example from the presentation for example:\n",
        "\n",
        "$$\\begin{cases}\n",
        "     z = 2x + \\sin x\\\\\n",
        "     v = 4x + \\cos x\n",
        "\\end{cases}$$\n",
        "\n",
        "We could formulate this as:\n",
        "\n",
        "$$\n",
        "\\begin{bmatrix}z \\\\ v\\end{bmatrix} = \\begin{bmatrix}2 \\\\ 4\\end{bmatrix} \\odot \\bar{x} + \\begin{bmatrix}1 \\\\ 0\\end{bmatrix} \\odot \\sin\\bar x + \\begin{bmatrix}0 \\\\ 1\\end{bmatrix} \\odot \\cos\\bar x\n",
        "$$\n",
        "\n",
        "where \n",
        "\n",
        "$$\n",
        "\\bar x = \\begin{bmatrix}x \\\\ x\\end{bmatrix}\n",
        "$$\n",
        "\n",
        "and $\\odot$ represents the Hadamard or element-wise product. This is demonstrated using PyTorch in the following code block.\n",
        "\n",
        "__Task:__ run the code below."
      ]
    },
    {
      "cell_type": "code",
      "metadata": {
        "deletable": false,
        "editable": false,
        "nbgrader": {
          "checksum": "5ab1d7ea5f6b1a017f7949fa0dd1c8f1",
          "grade": false,
          "grade_id": "cell-58a1e0676df73645",
          "locked": true,
          "schema_version": 1,
          "solution": false
        },
        "id": "1Nj5aV6bYb3H",
        "colab_type": "code",
        "colab": {
          "base_uri": "https://localhost:8080/",
          "height": 51
        },
        "outputId": "5f9f4983-2e79-42f1-fc3a-2d6eb1348574"
      },
      "source": [
        "x = torch.tensor([[1.0],[1.0]], requires_grad=True)\n",
        "\n",
        "zv = ( torch.tensor([[2.0],[4.0]]) * x +\n",
        "         torch.tensor([[1.0], [0.0]]) * torch.sin(x) +\n",
        "         torch.tensor([[0.0], [1.0]]) * torch.cos(x) )\n",
        "        \n",
        "zv.backward(torch.tensor([[1.0],[1.0]])) # Note as we have \"multiple outputs\" we must pass in a tensor of weights of the correct size\n",
        "\n",
        "print(x.grad)"
      ],
      "execution_count": null,
      "outputs": [
        {
          "output_type": "stream",
          "text": [
            "tensor([[2.5403],\n",
            "        [3.1585]])\n"
          ],
          "name": "stdout"
        }
      ]
    },
    {
      "cell_type": "markdown",
      "metadata": {
        "deletable": false,
        "editable": false,
        "nbgrader": {
          "checksum": "68158fbb8633636d8fdeaab2b8066186",
          "grade": false,
          "grade_id": "cell-5253f44d76ef4079",
          "locked": true,
          "schema_version": 1,
          "solution": false
        },
        "id": "p4Cd3wHUYb3K",
        "colab_type": "text"
      },
      "source": [
        "__Task:__ Use the following box to write down the derivative of the expression for $\\begin{bmatrix}z \\\\ v\\end{bmatrix}$ and verify the gradients $\\partial z/\\partial x$ and $\\partial v/\\partial x$ are correct for $x=1$."
      ]
    },
    {
      "cell_type": "markdown",
      "metadata": {
        "deletable": false,
        "nbgrader": {
          "checksum": "1e10ee0f8f8395414cb70aa241376003",
          "grade": true,
          "grade_id": "cell-b85be7c90ef1f408",
          "locked": false,
          "points": 3,
          "schema_version": 1,
          "solution": true
        },
        "id": "UfQTYIiQYb3L",
        "colab_type": "text"
      },
      "source": [
        "$\\partial z/\\partial x = 2 + cos(x) = 2 + 0.54 = 2.54$\n",
        "\n",
        "$\\partial v/\\partial x = 4 - sin(x) = 4 - 0.84 = 3.16$\n"
      ]
    },
    {
      "cell_type": "markdown",
      "metadata": {
        "id": "OnT5TDfvYb3O",
        "colab_type": "text"
      },
      "source": [
        "## Gradient descent & gradients with respect to a vector\n",
        "Let's put everything together and using automatically computed gradients to find the minima of a function by taking steps down the gradient from an initial position. Rather than explicitly creating each input variable as a scalar as in the previous examples, we'll use a vector instead (so our gradients will be with respect to each element of the vector).\n",
        "\n",
        "__Task:__ work through the following example to see how taking gradients with respect to a vector works & how simple gradient descent optimisation can be implemented."
      ]
    },
    {
      "cell_type": "code",
      "metadata": {
        "id": "ye8iqjL5Yb3P",
        "colab_type": "code",
        "colab": {
          "base_uri": "https://localhost:8080/",
          "height": 527
        },
        "outputId": "63a384e8-671d-4f8a-b4c5-0fc795584925"
      },
      "source": [
        "# This is our starting vector\n",
        "initial=[[2.0], [1.0], [10.0]]\n",
        "\n",
        "# This is the function we will optimise (feel free to work out the analytic minima!)\n",
        "def function(x):\n",
        "    return x[0]**2 + x[1]**2 + x[2]**2\n",
        "\n",
        "\n",
        "x = torch.tensor(initial, requires_grad=True, dtype=torch.float)\n",
        "for i in range(0,100):\n",
        "    # manually dispose of the gradient (in reality it would be better to detach and zero it to reuse memory)\n",
        "    x.grad=None\n",
        "    # evaluate the function\n",
        "    J = function(x) \n",
        "    # auto-compute the gradients at the previously evaluated point x\n",
        "    J.backward()\n",
        "    # compute the update\n",
        "    z = x - x.grad*0.1 \n",
        "    x.data = z\n",
        "    \n",
        "    if i%10 == 0:\n",
        "        print((x, function(x).item()))\n"
      ],
      "execution_count": null,
      "outputs": [
        {
          "output_type": "stream",
          "text": [
            "(tensor([[1.6000],\n",
            "        [0.8000],\n",
            "        [8.0000]], requires_grad=True), 67.19999694824219)\n",
            "(tensor([[0.1718],\n",
            "        [0.0859],\n",
            "        [0.8590]], requires_grad=True), 0.7747630476951599)\n",
            "(tensor([[0.0184],\n",
            "        [0.0092],\n",
            "        [0.0922]], requires_grad=True), 0.008932411670684814)\n",
            "(tensor([[0.0020],\n",
            "        [0.0010],\n",
            "        [0.0099]], requires_grad=True), 0.00010298370034433901)\n",
            "(tensor([[0.0002],\n",
            "        [0.0001],\n",
            "        [0.0011]], requires_grad=True), 1.1873213452417986e-06)\n",
            "(tensor([[2.2836e-05],\n",
            "        [1.1418e-05],\n",
            "        [1.1418e-04]], requires_grad=True), 1.3688886468798955e-08)\n",
            "(tensor([[2.4520e-06],\n",
            "        [1.2260e-06],\n",
            "        [1.2260e-05]], requires_grad=True), 1.5782215811999123e-10)\n",
            "(tensor([[2.6328e-07],\n",
            "        [1.3164e-07],\n",
            "        [1.3164e-06]], requires_grad=True), 1.8195657654207498e-12)\n",
            "(tensor([[2.8270e-08],\n",
            "        [1.4135e-08],\n",
            "        [1.4135e-07]], requires_grad=True), 2.0978168543115717e-14)\n",
            "(tensor([[3.0354e-09],\n",
            "        [1.5177e-09],\n",
            "        [1.5177e-08]], requires_grad=True), 2.418617877589929e-16)\n"
          ],
          "name": "stdout"
        }
      ]
    },
    {
      "cell_type": "markdown",
      "metadata": {
        "deletable": false,
        "editable": false,
        "nbgrader": {
          "checksum": "695b9f45e86839069d2c91a03395d180",
          "grade": false,
          "grade_id": "cell-fe38c3ff8580d8e1",
          "locked": true,
          "schema_version": 1,
          "solution": false
        },
        "id": "CGZRYfTzYb3R",
        "colab_type": "text"
      },
      "source": [
        "__Task__: Answer the following question in the box below: Why must the update in the code above be assigned to a different variable (the `z`) before being assigned to the `data` value of `x`?"
      ]
    },
    {
      "cell_type": "markdown",
      "metadata": {
        "deletable": false,
        "nbgrader": {
          "checksum": "2b3a76629b34fb1c8a80c90d9df28dd9",
          "grade": true,
          "grade_id": "cell-855b4580505f3b5c",
          "locked": false,
          "points": 3,
          "schema_version": 1,
          "solution": true
        },
        "id": "oeZE5dCdYb3S",
        "colab_type": "text"
      },
      "source": [
        "Avoid in-place operation\n",
        "\n",
        "Confirm this!"
      ]
    },
    {
      "cell_type": "markdown",
      "metadata": {
        "id": "1_MbihAgYb3T",
        "colab_type": "text"
      },
      "source": [
        "## Differentiating through random operations\n",
        "\n",
        "We'll end with an example that will be important later in the course: differentiating with respect to the parameters of a random number generator.\n",
        "\n",
        "Assume that as some part of a differentiable program that we write we wish to incorporate a random element where we sample values, $z$ from a Normal distribution: $z \\sim \\mathcal{N}(\\mu,\\sigma^2)$. We want to learn the parameters of the generator $\\mu$ and $\\sigma^2$, but how can we do this? In a differentiable program setting we want to differentiate with respect to these parameters, but at first glance it isn't at all obvious what this means as the generator _just_ produces numbers which themselves don't have gradients.\n",
        "\n",
        "The answer is often called the _reparameterisation trick_: If we note that sampling a Normal distribution is equivalent to drawing numbers from a Uniform distribution and scaling and shifting them: $z \\sim \\mathcal{N}(\\mu,\\sigma^2) \\equiv z \\sim \\mu + \\sigma\\mathcal{U}(0,1)\\equiv z = \\mu + \\sigma \\zeta\\, \\rm{where}\\, \\zeta\\sim\\mathcal{U}(0,1)$. With this reparameterisation the gradients with respect to the parameters are obvious.\n",
        "\n",
        "The following code block demonstrates this in practice; each of the gradients can be interpreted as how much an infintesimal change in $\\mu$ or $\\sigma$ would change $z$ if we could repeat the sampling operation again with the same value of `torch.rand(1)` being produced:"
      ]
    },
    {
      "cell_type": "code",
      "metadata": {
        "id": "gukZzP_iYb3T",
        "colab_type": "code",
        "colab": {
          "base_uri": "https://localhost:8080/",
          "height": 187
        },
        "outputId": "d3120b40-588a-4317-abe2-f8a1e82df96b"
      },
      "source": [
        "mu = torch.tensor(1.0, requires_grad=True)\n",
        "sigma = torch.tensor(1.0, requires_grad=True)\n",
        "\n",
        "for i in range(10):\n",
        "    mu.grad = None\n",
        "    sigma.grad = None\n",
        "    \n",
        "    z = mu + sigma * torch.rand(1)\n",
        "    z.backward()\n",
        "    print(\"z:\", z.item(), \"\\tdzdmu:\", mu.grad.item(), \"\\tdzdsigma:\", sigma.grad.item())"
      ],
      "execution_count": null,
      "outputs": [
        {
          "output_type": "stream",
          "text": [
            "z: 1.9799747467041016 \tdzdmu: 1.0 \tdzdsigma: 0.9799746870994568\n",
            "z: 1.7249839305877686 \tdzdmu: 1.0 \tdzdsigma: 0.7249838709831238\n",
            "z: 1.150776982307434 \tdzdmu: 1.0 \tdzdsigma: 0.15077698230743408\n",
            "z: 1.4513978958129883 \tdzdmu: 1.0 \tdzdsigma: 0.4513978958129883\n",
            "z: 1.7374670505523682 \tdzdmu: 1.0 \tdzdsigma: 0.7374669909477234\n",
            "z: 1.946202039718628 \tdzdmu: 1.0 \tdzdsigma: 0.9462019801139832\n",
            "z: 1.3492672443389893 \tdzdmu: 1.0 \tdzdsigma: 0.3492671847343445\n",
            "z: 1.774146556854248 \tdzdmu: 1.0 \tdzdsigma: 0.774146556854248\n",
            "z: 1.7501815557479858 \tdzdmu: 1.0 \tdzdsigma: 0.7501815557479858\n",
            "z: 1.3804705142974854 \tdzdmu: 1.0 \tdzdsigma: 0.38047051429748535\n"
          ],
          "name": "stdout"
        }
      ]
    },
    {
      "cell_type": "code",
      "metadata": {
        "id": "w2ChUjnHYb3V",
        "colab_type": "code",
        "colab": {
          "base_uri": "https://localhost:8080/",
          "height": 34
        },
        "outputId": "8a559025-cd20-4ba0-8c39-32dbff5dcf55"
      },
      "source": [
        "x = torch.tensor(4.0, requires_grad=True)\n",
        "\n",
        "def fib(n):\n",
        "    if n <= 1:\n",
        "        return n\n",
        "    else:\n",
        "        return fib(n-1) + fib(n-2)\n",
        "\n",
        "z = fib(x)\n",
        "z.backward()\n",
        "print(x.grad)"
      ],
      "execution_count": null,
      "outputs": [
        {
          "output_type": "stream",
          "text": [
            "tensor(5.)\n"
          ],
          "name": "stdout"
        }
      ]
    },
    {
      "cell_type": "code",
      "metadata": {
        "id": "V0bpRQBMRUPp",
        "colab_type": "code",
        "colab": {
          "base_uri": "https://localhost:8080/",
          "height": 34
        },
        "outputId": "642c9eb6-5b1d-4d93-d9d9-b475df7216e3"
      },
      "source": [
        "z = torch.tensor(2.0, requires_grad=True)\n",
        "x = torch.tensor(0.25, requires_grad=True)\n",
        "\n",
        "for i in range(0, 6):\n",
        "    if i%2 == 0:\n",
        "        z = torch.sin(z + x)\n",
        "\n",
        "z.backward()\n",
        "print(x.grad)"
      ],
      "execution_count": null,
      "outputs": [
        {
          "output_type": "stream",
          "text": [
            "tensor(0.5340)\n"
          ],
          "name": "stdout"
        }
      ]
    }
  ]
}